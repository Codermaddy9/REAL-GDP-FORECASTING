{
 "cells": [
  {
   "cell_type": "markdown",
   "id": "8ae27bd7",
   "metadata": {
    "id": "8ae27bd7"
   },
   "source": [
    "# TIME SERIES FORECASTING"
   ]
  },
  {
   "cell_type": "markdown",
   "id": "64a8cd50",
   "metadata": {
    "id": "26bf2fb2"
   },
   "source": [
    "### Importing Libraries"
   ]
  },
  {
   "cell_type": "code",
   "execution_count": 1,
   "id": "1bae5165",
   "metadata": {
    "id": "1bae5165"
   },
   "outputs": [],
   "source": [
    "import numpy as np\n",
    "import pandas as pd\n",
    "from matplotlib import pyplot as plt\n",
    "\n",
    "from sklearn.metrics import mean_squared_error,mean_absolute_error,mean_absolute_percentage_error\n",
    "from math import sqrt \n",
    "\n",
    "import statsmodels.api as sma\n",
    "import warnings\n",
    "warnings.filterwarnings('ignore')\n",
    "\n",
    "from statsmodels.tsa.api import SimpleExpSmoothing           #for single exponential smoothing\n",
    "from statsmodels.tsa.api import Holt                         #for double exponential smoothing\n",
    "from statsmodels.tsa.holtwinters import ExponentialSmoothing #for triple exponential smoothing\n"
   ]
  },
  {
   "cell_type": "code",
   "execution_count": 2,
   "id": "dd82fca2",
   "metadata": {
    "id": "dd82fca2"
   },
   "outputs": [],
   "source": [
    "import statsmodels as sm\n",
    "from statsmodels.graphics.tsaplots import plot_acf, plot_pacf\n",
    "\n",
    "from statsmodels.tsa.ar_model import AutoReg\n",
    "\n",
    "from statsmodels.tsa.arima.model import ARIMA\n",
    "#from statsmodels.tsa.arima_model import ARIMA\n",
    "from statsmodels.tsa.stattools import adfuller\n",
    "from pmdarima import auto_arima "
   ]
  },
  {
   "cell_type": "code",
   "execution_count": 3,
   "id": "54db97f5",
   "metadata": {
    "id": "54db97f5"
   },
   "outputs": [],
   "source": [
    "#! pip install pmdarima"
   ]
  },
  {
   "cell_type": "code",
   "execution_count": 3,
   "id": "54530231",
   "metadata": {
    "id": "54530231"
   },
   "outputs": [],
   "source": [
    "### Reading  data into dataframe\n",
    "data=pd.read_excel(\"Praxis workshop_MEV_TF.xlsx\")"
   ]
  },
  {
   "cell_type": "code",
   "execution_count": 4,
   "id": "93cf5535",
   "metadata": {},
   "outputs": [
    {
     "data": {
      "text/html": [
       "<div>\n",
       "<style scoped>\n",
       "    .dataframe tbody tr th:only-of-type {\n",
       "        vertical-align: middle;\n",
       "    }\n",
       "\n",
       "    .dataframe tbody tr th {\n",
       "        vertical-align: top;\n",
       "    }\n",
       "\n",
       "    .dataframe thead th {\n",
       "        text-align: right;\n",
       "    }\n",
       "</style>\n",
       "<table border=\"1\" class=\"dataframe\">\n",
       "  <thead>\n",
       "    <tr style=\"text-align: right;\">\n",
       "      <th></th>\n",
       "      <th>Date</th>\n",
       "      <th>Real GDP</th>\n",
       "      <th>Unemployment Rate</th>\n",
       "      <th>CPI - All Items</th>\n",
       "      <th>Real Disposable Income</th>\n",
       "      <th>Nominal GDP</th>\n",
       "      <th>Nominal Disposable Income</th>\n",
       "      <th>Dow Jones Total Stock Market Index</th>\n",
       "      <th>World Oil Price</th>\n",
       "    </tr>\n",
       "  </thead>\n",
       "  <tbody>\n",
       "    <tr>\n",
       "      <th>0</th>\n",
       "      <td>2004-01-28</td>\n",
       "      <td>13555.213297</td>\n",
       "      <td>5.785714</td>\n",
       "      <td>185.664835</td>\n",
       "      <td>9857.438242</td>\n",
       "      <td>11875.276923</td>\n",
       "      <td>8708.950110</td>\n",
       "      <td>10881.316703</td>\n",
       "      <td>30.253003</td>\n",
       "    </tr>\n",
       "    <tr>\n",
       "      <th>1</th>\n",
       "      <td>2004-02-28</td>\n",
       "      <td>13580.006703</td>\n",
       "      <td>5.744286</td>\n",
       "      <td>186.165165</td>\n",
       "      <td>9880.271758</td>\n",
       "      <td>11929.953077</td>\n",
       "      <td>8750.279890</td>\n",
       "      <td>10957.733297</td>\n",
       "      <td>31.060327</td>\n",
       "    </tr>\n",
       "    <tr>\n",
       "      <th>2</th>\n",
       "      <td>2004-03-28</td>\n",
       "      <td>13606.510000</td>\n",
       "      <td>5.700000</td>\n",
       "      <td>186.700000</td>\n",
       "      <td>9904.680000</td>\n",
       "      <td>11988.400000</td>\n",
       "      <td>8794.460000</td>\n",
       "      <td>11039.420000</td>\n",
       "      <td>31.923330</td>\n",
       "    </tr>\n",
       "    <tr>\n",
       "      <th>3</th>\n",
       "      <td>2004-04-28</td>\n",
       "      <td>13639.391319</td>\n",
       "      <td>5.667033</td>\n",
       "      <td>187.184615</td>\n",
       "      <td>9936.849231</td>\n",
       "      <td>12052.026374</td>\n",
       "      <td>8843.603956</td>\n",
       "      <td>11074.091429</td>\n",
       "      <td>33.084871</td>\n",
       "    </tr>\n",
       "    <tr>\n",
       "      <th>4</th>\n",
       "      <td>2004-05-28</td>\n",
       "      <td>13673.368681</td>\n",
       "      <td>5.632967</td>\n",
       "      <td>187.685385</td>\n",
       "      <td>9970.090769</td>\n",
       "      <td>12117.773626</td>\n",
       "      <td>8894.386044</td>\n",
       "      <td>11109.918571</td>\n",
       "      <td>34.285129</td>\n",
       "    </tr>\n",
       "    <tr>\n",
       "      <th>...</th>\n",
       "      <td>...</td>\n",
       "      <td>...</td>\n",
       "      <td>...</td>\n",
       "      <td>...</td>\n",
       "      <td>...</td>\n",
       "      <td>...</td>\n",
       "      <td>...</td>\n",
       "      <td>...</td>\n",
       "      <td>...</td>\n",
       "    </tr>\n",
       "    <tr>\n",
       "      <th>223</th>\n",
       "      <td>2022-08-31</td>\n",
       "      <td>19065.612174</td>\n",
       "      <td>4.220217</td>\n",
       "      <td>274.408913</td>\n",
       "      <td>14297.932174</td>\n",
       "      <td>23913.644130</td>\n",
       "      <td>17793.190217</td>\n",
       "      <td>34590.019130</td>\n",
       "      <td>64.382391</td>\n",
       "    </tr>\n",
       "    <tr>\n",
       "      <th>224</th>\n",
       "      <td>2022-09-30</td>\n",
       "      <td>19092.110000</td>\n",
       "      <td>4.230000</td>\n",
       "      <td>274.960000</td>\n",
       "      <td>14317.080000</td>\n",
       "      <td>23982.980000</td>\n",
       "      <td>17842.400000</td>\n",
       "      <td>34721.530000</td>\n",
       "      <td>64.490000</td>\n",
       "    </tr>\n",
       "    <tr>\n",
       "      <th>225</th>\n",
       "      <td>2022-10-31</td>\n",
       "      <td>19120.138043</td>\n",
       "      <td>4.230000</td>\n",
       "      <td>275.536196</td>\n",
       "      <td>14336.121413</td>\n",
       "      <td>24057.127283</td>\n",
       "      <td>17892.582935</td>\n",
       "      <td>34859.021739</td>\n",
       "      <td>64.601196</td>\n",
       "    </tr>\n",
       "    <tr>\n",
       "      <th>226</th>\n",
       "      <td>2022-11-30</td>\n",
       "      <td>19147.261956</td>\n",
       "      <td>4.230000</td>\n",
       "      <td>276.093804</td>\n",
       "      <td>14354.548587</td>\n",
       "      <td>24128.882717</td>\n",
       "      <td>17941.147065</td>\n",
       "      <td>34992.078261</td>\n",
       "      <td>64.708804</td>\n",
       "    </tr>\n",
       "    <tr>\n",
       "      <th>227</th>\n",
       "      <td>2022-12-31</td>\n",
       "      <td>19175.290000</td>\n",
       "      <td>4.230000</td>\n",
       "      <td>276.670000</td>\n",
       "      <td>14373.590000</td>\n",
       "      <td>24203.030000</td>\n",
       "      <td>17991.330000</td>\n",
       "      <td>35129.570000</td>\n",
       "      <td>64.820000</td>\n",
       "    </tr>\n",
       "  </tbody>\n",
       "</table>\n",
       "<p>228 rows × 9 columns</p>\n",
       "</div>"
      ],
      "text/plain": [
       "          Date      Real GDP  Unemployment Rate  CPI - All Items  \\\n",
       "0   2004-01-28  13555.213297           5.785714       185.664835   \n",
       "1   2004-02-28  13580.006703           5.744286       186.165165   \n",
       "2   2004-03-28  13606.510000           5.700000       186.700000   \n",
       "3   2004-04-28  13639.391319           5.667033       187.184615   \n",
       "4   2004-05-28  13673.368681           5.632967       187.685385   \n",
       "..         ...           ...                ...              ...   \n",
       "223 2022-08-31  19065.612174           4.220217       274.408913   \n",
       "224 2022-09-30  19092.110000           4.230000       274.960000   \n",
       "225 2022-10-31  19120.138043           4.230000       275.536196   \n",
       "226 2022-11-30  19147.261956           4.230000       276.093804   \n",
       "227 2022-12-31  19175.290000           4.230000       276.670000   \n",
       "\n",
       "     Real Disposable Income   Nominal GDP  Nominal Disposable Income  \\\n",
       "0               9857.438242  11875.276923                8708.950110   \n",
       "1               9880.271758  11929.953077                8750.279890   \n",
       "2               9904.680000  11988.400000                8794.460000   \n",
       "3               9936.849231  12052.026374                8843.603956   \n",
       "4               9970.090769  12117.773626                8894.386044   \n",
       "..                      ...           ...                        ...   \n",
       "223            14297.932174  23913.644130               17793.190217   \n",
       "224            14317.080000  23982.980000               17842.400000   \n",
       "225            14336.121413  24057.127283               17892.582935   \n",
       "226            14354.548587  24128.882717               17941.147065   \n",
       "227            14373.590000  24203.030000               17991.330000   \n",
       "\n",
       "     Dow Jones Total Stock Market Index  World Oil Price  \n",
       "0                          10881.316703        30.253003  \n",
       "1                          10957.733297        31.060327  \n",
       "2                          11039.420000        31.923330  \n",
       "3                          11074.091429        33.084871  \n",
       "4                          11109.918571        34.285129  \n",
       "..                                  ...              ...  \n",
       "223                        34590.019130        64.382391  \n",
       "224                        34721.530000        64.490000  \n",
       "225                        34859.021739        64.601196  \n",
       "226                        34992.078261        64.708804  \n",
       "227                        35129.570000        64.820000  \n",
       "\n",
       "[228 rows x 9 columns]"
      ]
     },
     "execution_count": 4,
     "metadata": {},
     "output_type": "execute_result"
    }
   ],
   "source": [
    "data"
   ]
  },
  {
   "cell_type": "code",
   "execution_count": 5,
   "id": "e6cdb1fe",
   "metadata": {},
   "outputs": [],
   "source": [
    "data = data.drop([\"Unemployment Rate\",\"World Oil Price\",\"CPI - All Items\",\"Real Disposable Income\",\"Nominal GDP\",\"Nominal Disposable Income\",\"Dow Jones Total Stock Market Index\"],axis=1)"
   ]
  },
  {
   "cell_type": "code",
   "execution_count": 6,
   "id": "7302fe05",
   "metadata": {
    "id": "7302fe05"
   },
   "outputs": [],
   "source": [
    "#Convert object into dateformat\n",
    "data.Date = pd.to_datetime(data.Date)"
   ]
  },
  {
   "cell_type": "code",
   "execution_count": 7,
   "id": "b8843c97",
   "metadata": {},
   "outputs": [
    {
     "data": {
      "text/plain": [
       "Date        datetime64[ns]\n",
       "Real GDP           float64\n",
       "dtype: object"
      ]
     },
     "execution_count": 7,
     "metadata": {},
     "output_type": "execute_result"
    }
   ],
   "source": [
    "data.dtypes"
   ]
  },
  {
   "cell_type": "code",
   "execution_count": 8,
   "id": "a5d8cd22",
   "metadata": {
    "colab": {
     "base_uri": "https://localhost:8080/",
     "height": 206
    },
    "id": "a5d8cd22",
    "outputId": "91a739e8-649b-41fb-9092-fe09caba1652"
   },
   "outputs": [
    {
     "data": {
      "text/html": [
       "<div>\n",
       "<style scoped>\n",
       "    .dataframe tbody tr th:only-of-type {\n",
       "        vertical-align: middle;\n",
       "    }\n",
       "\n",
       "    .dataframe tbody tr th {\n",
       "        vertical-align: top;\n",
       "    }\n",
       "\n",
       "    .dataframe thead th {\n",
       "        text-align: right;\n",
       "    }\n",
       "</style>\n",
       "<table border=\"1\" class=\"dataframe\">\n",
       "  <thead>\n",
       "    <tr style=\"text-align: right;\">\n",
       "      <th></th>\n",
       "      <th>Date</th>\n",
       "      <th>Real GDP</th>\n",
       "    </tr>\n",
       "  </thead>\n",
       "  <tbody>\n",
       "    <tr>\n",
       "      <th>0</th>\n",
       "      <td>2004-01-28</td>\n",
       "      <td>13555.213297</td>\n",
       "    </tr>\n",
       "    <tr>\n",
       "      <th>1</th>\n",
       "      <td>2004-02-28</td>\n",
       "      <td>13580.006703</td>\n",
       "    </tr>\n",
       "    <tr>\n",
       "      <th>2</th>\n",
       "      <td>2004-03-28</td>\n",
       "      <td>13606.510000</td>\n",
       "    </tr>\n",
       "    <tr>\n",
       "      <th>3</th>\n",
       "      <td>2004-04-28</td>\n",
       "      <td>13639.391319</td>\n",
       "    </tr>\n",
       "    <tr>\n",
       "      <th>4</th>\n",
       "      <td>2004-05-28</td>\n",
       "      <td>13673.368681</td>\n",
       "    </tr>\n",
       "    <tr>\n",
       "      <th>...</th>\n",
       "      <td>...</td>\n",
       "      <td>...</td>\n",
       "    </tr>\n",
       "    <tr>\n",
       "      <th>223</th>\n",
       "      <td>2022-08-31</td>\n",
       "      <td>19065.612174</td>\n",
       "    </tr>\n",
       "    <tr>\n",
       "      <th>224</th>\n",
       "      <td>2022-09-30</td>\n",
       "      <td>19092.110000</td>\n",
       "    </tr>\n",
       "    <tr>\n",
       "      <th>225</th>\n",
       "      <td>2022-10-31</td>\n",
       "      <td>19120.138043</td>\n",
       "    </tr>\n",
       "    <tr>\n",
       "      <th>226</th>\n",
       "      <td>2022-11-30</td>\n",
       "      <td>19147.261956</td>\n",
       "    </tr>\n",
       "    <tr>\n",
       "      <th>227</th>\n",
       "      <td>2022-12-31</td>\n",
       "      <td>19175.290000</td>\n",
       "    </tr>\n",
       "  </tbody>\n",
       "</table>\n",
       "<p>228 rows × 2 columns</p>\n",
       "</div>"
      ],
      "text/plain": [
       "          Date      Real GDP\n",
       "0   2004-01-28  13555.213297\n",
       "1   2004-02-28  13580.006703\n",
       "2   2004-03-28  13606.510000\n",
       "3   2004-04-28  13639.391319\n",
       "4   2004-05-28  13673.368681\n",
       "..         ...           ...\n",
       "223 2022-08-31  19065.612174\n",
       "224 2022-09-30  19092.110000\n",
       "225 2022-10-31  19120.138043\n",
       "226 2022-11-30  19147.261956\n",
       "227 2022-12-31  19175.290000\n",
       "\n",
       "[228 rows x 2 columns]"
      ]
     },
     "execution_count": 8,
     "metadata": {},
     "output_type": "execute_result"
    }
   ],
   "source": [
    "data"
   ]
  },
  {
   "cell_type": "code",
   "execution_count": 9,
   "id": "7408e65f",
   "metadata": {
    "colab": {
     "base_uri": "https://localhost:8080/",
     "height": 206
    },
    "id": "7408e65f",
    "outputId": "9d2651e4-4754-4b1e-ce54-3b19dfaa8a60"
   },
   "outputs": [
    {
     "data": {
      "text/html": [
       "<div>\n",
       "<style scoped>\n",
       "    .dataframe tbody tr th:only-of-type {\n",
       "        vertical-align: middle;\n",
       "    }\n",
       "\n",
       "    .dataframe tbody tr th {\n",
       "        vertical-align: top;\n",
       "    }\n",
       "\n",
       "    .dataframe thead th {\n",
       "        text-align: right;\n",
       "    }\n",
       "</style>\n",
       "<table border=\"1\" class=\"dataframe\">\n",
       "  <thead>\n",
       "    <tr style=\"text-align: right;\">\n",
       "      <th></th>\n",
       "      <th>Date</th>\n",
       "      <th>Real GDP</th>\n",
       "    </tr>\n",
       "  </thead>\n",
       "  <tbody>\n",
       "    <tr>\n",
       "      <th>157</th>\n",
       "      <td>2017-02-28</td>\n",
       "      <td>16885.390889</td>\n",
       "    </tr>\n",
       "    <tr>\n",
       "      <th>158</th>\n",
       "      <td>2017-03-31</td>\n",
       "      <td>16903.240000</td>\n",
       "    </tr>\n",
       "    <tr>\n",
       "      <th>159</th>\n",
       "      <td>2017-04-30</td>\n",
       "      <td>16945.388352</td>\n",
       "    </tr>\n",
       "    <tr>\n",
       "      <th>160</th>\n",
       "      <td>2017-05-31</td>\n",
       "      <td>16988.941648</td>\n",
       "    </tr>\n",
       "    <tr>\n",
       "      <th>161</th>\n",
       "      <td>2017-06-30</td>\n",
       "      <td>17031.090000</td>\n",
       "    </tr>\n",
       "  </tbody>\n",
       "</table>\n",
       "</div>"
      ],
      "text/plain": [
       "          Date      Real GDP\n",
       "157 2017-02-28  16885.390889\n",
       "158 2017-03-31  16903.240000\n",
       "159 2017-04-30  16945.388352\n",
       "160 2017-05-31  16988.941648\n",
       "161 2017-06-30  17031.090000"
      ]
     },
     "execution_count": 9,
     "metadata": {},
     "output_type": "execute_result"
    }
   ],
   "source": [
    "# train - from jan 2004 to june 2017\n",
    "train=data.iloc[:162]\n",
    "train.tail()"
   ]
  },
  {
   "cell_type": "code",
   "execution_count": 10,
   "id": "b07a9ffd",
   "metadata": {},
   "outputs": [],
   "source": [
    "# validation(OOT) - from june 2017 to Dec 2018\n",
    "valid=data.iloc[162:180]\n",
    "y_hat=valid.copy()"
   ]
  },
  {
   "cell_type": "code",
   "execution_count": 16,
   "id": "a9e3f9b5",
   "metadata": {
    "id": "a9e3f9b5"
   },
   "outputs": [
    {
     "data": {
      "text/html": [
       "<div>\n",
       "<style scoped>\n",
       "    .dataframe tbody tr th:only-of-type {\n",
       "        vertical-align: middle;\n",
       "    }\n",
       "\n",
       "    .dataframe tbody tr th {\n",
       "        vertical-align: top;\n",
       "    }\n",
       "\n",
       "    .dataframe thead th {\n",
       "        text-align: right;\n",
       "    }\n",
       "</style>\n",
       "<table border=\"1\" class=\"dataframe\">\n",
       "  <thead>\n",
       "    <tr style=\"text-align: right;\">\n",
       "      <th></th>\n",
       "      <th>Date</th>\n",
       "      <th>Real GDP</th>\n",
       "    </tr>\n",
       "  </thead>\n",
       "  <tbody>\n",
       "    <tr>\n",
       "      <th>180</th>\n",
       "      <td>2019-01-31</td>\n",
       "      <td>17762.639556</td>\n",
       "    </tr>\n",
       "    <tr>\n",
       "      <th>181</th>\n",
       "      <td>2019-02-28</td>\n",
       "      <td>17794.080444</td>\n",
       "    </tr>\n",
       "    <tr>\n",
       "      <th>182</th>\n",
       "      <td>2019-03-31</td>\n",
       "      <td>17828.890000</td>\n",
       "    </tr>\n",
       "    <tr>\n",
       "      <th>183</th>\n",
       "      <td>2019-04-30</td>\n",
       "      <td>17862.400989</td>\n",
       "    </tr>\n",
       "    <tr>\n",
       "      <th>184</th>\n",
       "      <td>2019-05-31</td>\n",
       "      <td>17897.029011</td>\n",
       "    </tr>\n",
       "  </tbody>\n",
       "</table>\n",
       "</div>"
      ],
      "text/plain": [
       "          Date      Real GDP\n",
       "180 2019-01-31  17762.639556\n",
       "181 2019-02-28  17794.080444\n",
       "182 2019-03-31  17828.890000\n",
       "183 2019-04-30  17862.400989\n",
       "184 2019-05-31  17897.029011"
      ]
     },
     "execution_count": 16,
     "metadata": {},
     "output_type": "execute_result"
    }
   ],
   "source": [
    "# Test - from Dec 2018 to Dec 2022\n",
    "test=data.iloc[180:]\n",
    "test.head(5)"
   ]
  },
  {
   "cell_type": "code",
   "execution_count": 12,
   "id": "c95a0d65",
   "metadata": {
    "colab": {
     "base_uri": "https://localhost:8080/",
     "height": 336
    },
    "id": "c95a0d65",
    "outputId": "147a0711-6ff3-43c8-c1f6-37c1a46e8db6",
    "scrolled": true
   },
   "outputs": [
    {
     "data": {
      "image/png": "[encoded data removed]",
      "text/plain": [
       "<Figure size 1080x360 with 1 Axes>"
      ]
     },
     "metadata": {
      "needs_background": "light"
     },
     "output_type": "display_data"
    }
   ],
   "source": [
    "#plotting the entire data\n",
    "plt.figure(figsize=(15,5))\n",
    "plt.plot(data['Date'],data['Real GDP'])\n",
    "plt.title('Real GDP')\n",
    "plt.show()"
   ]
  },
  {
   "cell_type": "markdown",
   "id": "81b86e3b",
   "metadata": {
    "id": "81b86e3b"
   },
   "source": [
    "### Naive Approach"
   ]
  },
  {
   "cell_type": "code",
   "execution_count": 13,
   "id": "943afb4c",
   "metadata": {
    "colab": {
     "base_uri": "https://localhost:8080/",
     "height": 206
    },
    "id": "943afb4c",
    "outputId": "e1fb1dce-51ae-453d-b0cf-7d418f09a522"
   },
   "outputs": [
    {
     "data": {
      "text/html": [
       "<div>\n",
       "<style scoped>\n",
       "    .dataframe tbody tr th:only-of-type {\n",
       "        vertical-align: middle;\n",
       "    }\n",
       "\n",
       "    .dataframe tbody tr th {\n",
       "        vertical-align: top;\n",
       "    }\n",
       "\n",
       "    .dataframe thead th {\n",
       "        text-align: right;\n",
       "    }\n",
       "</style>\n",
       "<table border=\"1\" class=\"dataframe\">\n",
       "  <thead>\n",
       "    <tr style=\"text-align: right;\">\n",
       "      <th></th>\n",
       "      <th>Date</th>\n",
       "      <th>Real GDP</th>\n",
       "      <th>Naive_Forecast</th>\n",
       "    </tr>\n",
       "  </thead>\n",
       "  <tbody>\n",
       "    <tr>\n",
       "      <th>162</th>\n",
       "      <td>2017-07-31</td>\n",
       "      <td>17075.837826</td>\n",
       "      <td>17031.09</td>\n",
       "    </tr>\n",
       "    <tr>\n",
       "      <th>163</th>\n",
       "      <td>2017-08-31</td>\n",
       "      <td>17120.585652</td>\n",
       "      <td>17031.09</td>\n",
       "    </tr>\n",
       "    <tr>\n",
       "      <th>164</th>\n",
       "      <td>2017-09-30</td>\n",
       "      <td>17163.890000</td>\n",
       "      <td>17031.09</td>\n",
       "    </tr>\n",
       "    <tr>\n",
       "      <th>165</th>\n",
       "      <td>2017-10-31</td>\n",
       "      <td>17202.542283</td>\n",
       "      <td>17031.09</td>\n",
       "    </tr>\n",
       "    <tr>\n",
       "      <th>166</th>\n",
       "      <td>2017-11-30</td>\n",
       "      <td>17239.947717</td>\n",
       "      <td>17031.09</td>\n",
       "    </tr>\n",
       "  </tbody>\n",
       "</table>\n",
       "</div>"
      ],
      "text/plain": [
       "          Date      Real GDP  Naive_Forecast\n",
       "162 2017-07-31  17075.837826        17031.09\n",
       "163 2017-08-31  17120.585652        17031.09\n",
       "164 2017-09-30  17163.890000        17031.09\n",
       "165 2017-10-31  17202.542283        17031.09\n",
       "166 2017-11-30  17239.947717        17031.09"
      ]
     },
     "execution_count": 13,
     "metadata": {},
     "output_type": "execute_result"
    }
   ],
   "source": [
    "y_hat['Naive_Forecast'] = train.iloc[len(train)-1,1]\n",
    "y_hat.head()"
   ]
  },
  {
   "cell_type": "code",
   "execution_count": 14,
   "id": "3292893e",
   "metadata": {
    "colab": {
     "base_uri": "https://localhost:8080/",
     "height": 320
    },
    "id": "3292893e",
    "outputId": "1a3af4ca-d583-411f-9041-0e79d9520610"
   },
   "outputs": [
    {
     "data": {
      "image/png": "[encoded data removed]",
      "text/plain": [
       "<Figure size 1080x360 with 1 Axes>"
      ]
     },
     "metadata": {
      "needs_background": "light"
     },
     "output_type": "display_data"
    }
   ],
   "source": [
    "plt.figure(figsize=(15,5))\n",
    "plt.plot(train['Real GDP'],label=\"train\")\n",
    "plt.plot(y_hat['Real GDP'],label=\"Actual\")\n",
    "plt.plot(y_hat[\"Naive_Forecast\"],label=\"Naive Approach\")\n",
    "plt.legend()\n",
    "plt.show()"
   ]
  },
  {
   "cell_type": "code",
   "execution_count": 17,
   "id": "4b14bad5",
   "metadata": {
    "colab": {
     "base_uri": "https://localhost:8080/"
    },
    "id": "4b14bad5",
    "outputId": "6ae167df-ac6c-4d68-d32d-08f260806627",
    "scrolled": true
   },
   "outputs": [
    {
     "name": "stdout",
     "output_type": "stream",
     "text": [
      "MAPE:  0.021537786623675715\n",
      "RMSE:  425.73670858495205\n"
     ]
    }
   ],
   "source": [
    "print(\"MAPE: \",mean_absolute_percentage_error(y_hat[\"Real GDP\"],y_hat[\"Naive_Forecast\"]))\n",
    "print(\"RMSE: \",sqrt(mean_squared_error(y_hat[\"Real GDP\"],y_hat[\"Naive_Forecast\"])))"
   ]
  },
  {
   "cell_type": "markdown",
   "id": "b066e908",
   "metadata": {
    "id": "b066e908"
   },
   "source": [
    "### Average Method"
   ]
  },
  {
   "cell_type": "code",
   "execution_count": 19,
   "id": "5f1cb9e4",
   "metadata": {
    "colab": {
     "base_uri": "https://localhost:8080/",
     "height": 206
    },
    "id": "5f1cb9e4",
    "outputId": "29086ec4-32e7-41d4-ecb3-f97ab975738c"
   },
   "outputs": [
    {
     "data": {
      "text/html": [
       "<div>\n",
       "<style scoped>\n",
       "    .dataframe tbody tr th:only-of-type {\n",
       "        vertical-align: middle;\n",
       "    }\n",
       "\n",
       "    .dataframe tbody tr th {\n",
       "        vertical-align: top;\n",
       "    }\n",
       "\n",
       "    .dataframe thead th {\n",
       "        text-align: right;\n",
       "    }\n",
       "</style>\n",
       "<table border=\"1\" class=\"dataframe\">\n",
       "  <thead>\n",
       "    <tr style=\"text-align: right;\">\n",
       "      <th></th>\n",
       "      <th>Date</th>\n",
       "      <th>Real GDP</th>\n",
       "      <th>Naive_Forecast</th>\n",
       "      <th>Average_Model</th>\n",
       "    </tr>\n",
       "  </thead>\n",
       "  <tbody>\n",
       "    <tr>\n",
       "      <th>162</th>\n",
       "      <td>2017-07-31</td>\n",
       "      <td>17075.837826</td>\n",
       "      <td>17031.09</td>\n",
       "      <td>15178.46</td>\n",
       "    </tr>\n",
       "    <tr>\n",
       "      <th>163</th>\n",
       "      <td>2017-08-31</td>\n",
       "      <td>17120.585652</td>\n",
       "      <td>17031.09</td>\n",
       "      <td>15178.46</td>\n",
       "    </tr>\n",
       "    <tr>\n",
       "      <th>164</th>\n",
       "      <td>2017-09-30</td>\n",
       "      <td>17163.890000</td>\n",
       "      <td>17031.09</td>\n",
       "      <td>15178.46</td>\n",
       "    </tr>\n",
       "    <tr>\n",
       "      <th>165</th>\n",
       "      <td>2017-10-31</td>\n",
       "      <td>17202.542283</td>\n",
       "      <td>17031.09</td>\n",
       "      <td>15178.46</td>\n",
       "    </tr>\n",
       "    <tr>\n",
       "      <th>166</th>\n",
       "      <td>2017-11-30</td>\n",
       "      <td>17239.947717</td>\n",
       "      <td>17031.09</td>\n",
       "      <td>15178.46</td>\n",
       "    </tr>\n",
       "  </tbody>\n",
       "</table>\n",
       "</div>"
      ],
      "text/plain": [
       "          Date      Real GDP  Naive_Forecast  Average_Model\n",
       "162 2017-07-31  17075.837826        17031.09       15178.46\n",
       "163 2017-08-31  17120.585652        17031.09       15178.46\n",
       "164 2017-09-30  17163.890000        17031.09       15178.46\n",
       "165 2017-10-31  17202.542283        17031.09       15178.46\n",
       "166 2017-11-30  17239.947717        17031.09       15178.46"
      ]
     },
     "execution_count": 19,
     "metadata": {},
     "output_type": "execute_result"
    }
   ],
   "source": [
    "y_hat['Average_Model'] = np.round(train[\"Real GDP\"].mean(),2)\n",
    "y_hat.head()"
   ]
  },
  {
   "cell_type": "code",
   "execution_count": 20,
   "id": "875d54b5",
   "metadata": {
    "colab": {
     "base_uri": "https://localhost:8080/",
     "height": 320
    },
    "id": "875d54b5",
    "outputId": "0ec03d69-d8e9-4e8e-dd62-ff487529ae5a"
   },
   "outputs": [
    {
     "data": {
      "image/png": "[encoded data removed]",
      "text/plain": [
       "<Figure size 1080x360 with 1 Axes>"
      ]
     },
     "metadata": {
      "needs_background": "light"
     },
     "output_type": "display_data"
    }
   ],
   "source": [
    "plt.figure(figsize=(15,5))\n",
    "plt.plot(train['Real GDP'],label=\"train\")\n",
    "plt.plot(y_hat['Real GDP'],label=\"valid\")\n",
    "plt.plot(y_hat[\"Naive_Forecast\"],label=\"Naive Approach\")\n",
    "plt.plot(y_hat[\"Average_Model\"],label=\"Average\")\n",
    "plt.legend()\n",
    "plt.show()"
   ]
  },
  {
   "cell_type": "code",
   "execution_count": 21,
   "id": "973f8737",
   "metadata": {
    "colab": {
     "base_uri": "https://localhost:8080/"
    },
    "id": "973f8737",
    "outputId": "1633e7a2-4fe0-4c1e-dd98-03b2d329cb55"
   },
   "outputs": [
    {
     "name": "stdout",
     "output_type": "stream",
     "text": [
      "MAPE:  0.12797421848842308\n",
      "RMSE:  2238.4927821064402\n"
     ]
    }
   ],
   "source": [
    "print(\"MAPE: \",mean_absolute_percentage_error(y_hat[\"Real GDP\"],y_hat[\"Average_Model\"]))\n",
    "print(\"RMSE: \",sqrt(mean_squared_error(y_hat[\"Real GDP\"],y_hat[\"Average_Model\"])))"
   ]
  },
  {
   "cell_type": "markdown",
   "id": "b29a7221",
   "metadata": {
    "id": "b29a7221"
   },
   "source": [
    "### Drift Method"
   ]
  },
  {
   "cell_type": "code",
   "execution_count": 22,
   "id": "a2dd0166",
   "metadata": {
    "colab": {
     "base_uri": "https://localhost:8080/",
     "height": 206
    },
    "id": "a2dd0166",
    "outputId": "a9ca06df-325c-4908-9b35-e73adb7a54bd"
   },
   "outputs": [
    {
     "data": {
      "text/html": [
       "<div>\n",
       "<style scoped>\n",
       "    .dataframe tbody tr th:only-of-type {\n",
       "        vertical-align: middle;\n",
       "    }\n",
       "\n",
       "    .dataframe tbody tr th {\n",
       "        vertical-align: top;\n",
       "    }\n",
       "\n",
       "    .dataframe thead th {\n",
       "        text-align: right;\n",
       "    }\n",
       "</style>\n",
       "<table border=\"1\" class=\"dataframe\">\n",
       "  <thead>\n",
       "    <tr style=\"text-align: right;\">\n",
       "      <th></th>\n",
       "      <th>Date</th>\n",
       "      <th>Real GDP</th>\n",
       "      <th>Naive_Forecast</th>\n",
       "      <th>Average_Model</th>\n",
       "      <th>Drift</th>\n",
       "    </tr>\n",
       "  </thead>\n",
       "  <tbody>\n",
       "    <tr>\n",
       "      <th>162</th>\n",
       "      <td>2017-07-31</td>\n",
       "      <td>17075.837826</td>\n",
       "      <td>17031.09</td>\n",
       "      <td>15178.46</td>\n",
       "      <td>NaN</td>\n",
       "    </tr>\n",
       "    <tr>\n",
       "      <th>163</th>\n",
       "      <td>2017-08-31</td>\n",
       "      <td>17120.585652</td>\n",
       "      <td>17031.09</td>\n",
       "      <td>15178.46</td>\n",
       "      <td>NaN</td>\n",
       "    </tr>\n",
       "    <tr>\n",
       "      <th>164</th>\n",
       "      <td>2017-09-30</td>\n",
       "      <td>17163.890000</td>\n",
       "      <td>17031.09</td>\n",
       "      <td>15178.46</td>\n",
       "      <td>NaN</td>\n",
       "    </tr>\n",
       "    <tr>\n",
       "      <th>165</th>\n",
       "      <td>2017-10-31</td>\n",
       "      <td>17202.542283</td>\n",
       "      <td>17031.09</td>\n",
       "      <td>15178.46</td>\n",
       "      <td>NaN</td>\n",
       "    </tr>\n",
       "    <tr>\n",
       "      <th>166</th>\n",
       "      <td>2017-11-30</td>\n",
       "      <td>17239.947717</td>\n",
       "      <td>17031.09</td>\n",
       "      <td>15178.46</td>\n",
       "      <td>NaN</td>\n",
       "    </tr>\n",
       "  </tbody>\n",
       "</table>\n",
       "</div>"
      ],
      "text/plain": [
       "          Date      Real GDP  Naive_Forecast  Average_Model  Drift\n",
       "162 2017-07-31  17075.837826        17031.09       15178.46    NaN\n",
       "163 2017-08-31  17120.585652        17031.09       15178.46    NaN\n",
       "164 2017-09-30  17163.890000        17031.09       15178.46    NaN\n",
       "165 2017-10-31  17202.542283        17031.09       15178.46    NaN\n",
       "166 2017-11-30  17239.947717        17031.09       15178.46    NaN"
      ]
     },
     "execution_count": 22,
     "metadata": {},
     "output_type": "execute_result"
    }
   ],
   "source": [
    "y_hat['Drift'] = np.nan\n",
    "y_hat.head()"
   ]
  },
  {
   "cell_type": "code",
   "execution_count": 23,
   "id": "16c35712",
   "metadata": {
    "colab": {
     "base_uri": "https://localhost:8080/",
     "height": 206
    },
    "id": "16c35712",
    "outputId": "7ec95297-0030-4aa8-a082-64c782324b89"
   },
   "outputs": [
    {
     "data": {
      "text/html": [
       "<div>\n",
       "<style scoped>\n",
       "    .dataframe tbody tr th:only-of-type {\n",
       "        vertical-align: middle;\n",
       "    }\n",
       "\n",
       "    .dataframe tbody tr th {\n",
       "        vertical-align: top;\n",
       "    }\n",
       "\n",
       "    .dataframe thead th {\n",
       "        text-align: right;\n",
       "    }\n",
       "</style>\n",
       "<table border=\"1\" class=\"dataframe\">\n",
       "  <thead>\n",
       "    <tr style=\"text-align: right;\">\n",
       "      <th></th>\n",
       "      <th>Date</th>\n",
       "      <th>Real GDP</th>\n",
       "      <th>Naive_Forecast</th>\n",
       "      <th>Average_Model</th>\n",
       "      <th>Drift</th>\n",
       "    </tr>\n",
       "  </thead>\n",
       "  <tbody>\n",
       "    <tr>\n",
       "      <th>162</th>\n",
       "      <td>2017-07-31</td>\n",
       "      <td>17075.837826</td>\n",
       "      <td>17031.09</td>\n",
       "      <td>15178.46</td>\n",
       "      <td>NaN</td>\n",
       "    </tr>\n",
       "    <tr>\n",
       "      <th>163</th>\n",
       "      <td>2017-08-31</td>\n",
       "      <td>17120.585652</td>\n",
       "      <td>17031.09</td>\n",
       "      <td>15178.46</td>\n",
       "      <td>NaN</td>\n",
       "    </tr>\n",
       "    <tr>\n",
       "      <th>164</th>\n",
       "      <td>2017-09-30</td>\n",
       "      <td>17163.890000</td>\n",
       "      <td>17031.09</td>\n",
       "      <td>15178.46</td>\n",
       "      <td>NaN</td>\n",
       "    </tr>\n",
       "    <tr>\n",
       "      <th>165</th>\n",
       "      <td>2017-10-31</td>\n",
       "      <td>17202.542283</td>\n",
       "      <td>17031.09</td>\n",
       "      <td>15178.46</td>\n",
       "      <td>NaN</td>\n",
       "    </tr>\n",
       "    <tr>\n",
       "      <th>166</th>\n",
       "      <td>2017-11-30</td>\n",
       "      <td>17239.947717</td>\n",
       "      <td>17031.09</td>\n",
       "      <td>15178.46</td>\n",
       "      <td>NaN</td>\n",
       "    </tr>\n",
       "  </tbody>\n",
       "</table>\n",
       "</div>"
      ],
      "text/plain": [
       "          Date      Real GDP  Naive_Forecast  Average_Model  Drift\n",
       "162 2017-07-31  17075.837826        17031.09       15178.46    NaN\n",
       "163 2017-08-31  17120.585652        17031.09       15178.46    NaN\n",
       "164 2017-09-30  17163.890000        17031.09       15178.46    NaN\n",
       "165 2017-10-31  17202.542283        17031.09       15178.46    NaN\n",
       "166 2017-11-30  17239.947717        17031.09       15178.46    NaN"
      ]
     },
     "execution_count": 23,
     "metadata": {},
     "output_type": "execute_result"
    }
   ],
   "source": [
    "y_hat.head()"
   ]
  },
  {
   "cell_type": "code",
   "execution_count": 24,
   "id": "5bcf35bc",
   "metadata": {
    "id": "5bcf35bc"
   },
   "outputs": [],
   "source": [
    "for i in range(len(y_hat)):\n",
    "    y_hat.iloc[i,4] = np.round(train.iloc[-1,1]+((i+1)*(train.iloc[-1,1] - train.iloc[0,1])/(len(train)-1)),2)"
   ]
  },
  {
   "cell_type": "code",
   "execution_count": 25,
   "id": "4b2181d9",
   "metadata": {
    "colab": {
     "base_uri": "https://localhost:8080/",
     "height": 206
    },
    "id": "4b2181d9",
    "outputId": "6c658600-b5e0-4fb6-dae8-171ea462dd9e"
   },
   "outputs": [
    {
     "data": {
      "text/html": [
       "<div>\n",
       "<style scoped>\n",
       "    .dataframe tbody tr th:only-of-type {\n",
       "        vertical-align: middle;\n",
       "    }\n",
       "\n",
       "    .dataframe tbody tr th {\n",
       "        vertical-align: top;\n",
       "    }\n",
       "\n",
       "    .dataframe thead th {\n",
       "        text-align: right;\n",
       "    }\n",
       "</style>\n",
       "<table border=\"1\" class=\"dataframe\">\n",
       "  <thead>\n",
       "    <tr style=\"text-align: right;\">\n",
       "      <th></th>\n",
       "      <th>Date</th>\n",
       "      <th>Real GDP</th>\n",
       "      <th>Naive_Forecast</th>\n",
       "      <th>Average_Model</th>\n",
       "      <th>Drift</th>\n",
       "    </tr>\n",
       "  </thead>\n",
       "  <tbody>\n",
       "    <tr>\n",
       "      <th>162</th>\n",
       "      <td>2017-07-31</td>\n",
       "      <td>17075.837826</td>\n",
       "      <td>17031.09</td>\n",
       "      <td>15178.46</td>\n",
       "      <td>17052.68</td>\n",
       "    </tr>\n",
       "    <tr>\n",
       "      <th>163</th>\n",
       "      <td>2017-08-31</td>\n",
       "      <td>17120.585652</td>\n",
       "      <td>17031.09</td>\n",
       "      <td>15178.46</td>\n",
       "      <td>17074.27</td>\n",
       "    </tr>\n",
       "    <tr>\n",
       "      <th>164</th>\n",
       "      <td>2017-09-30</td>\n",
       "      <td>17163.890000</td>\n",
       "      <td>17031.09</td>\n",
       "      <td>15178.46</td>\n",
       "      <td>17095.86</td>\n",
       "    </tr>\n",
       "    <tr>\n",
       "      <th>165</th>\n",
       "      <td>2017-10-31</td>\n",
       "      <td>17202.542283</td>\n",
       "      <td>17031.09</td>\n",
       "      <td>15178.46</td>\n",
       "      <td>17117.45</td>\n",
       "    </tr>\n",
       "    <tr>\n",
       "      <th>166</th>\n",
       "      <td>2017-11-30</td>\n",
       "      <td>17239.947717</td>\n",
       "      <td>17031.09</td>\n",
       "      <td>15178.46</td>\n",
       "      <td>17139.04</td>\n",
       "    </tr>\n",
       "  </tbody>\n",
       "</table>\n",
       "</div>"
      ],
      "text/plain": [
       "          Date      Real GDP  Naive_Forecast  Average_Model     Drift\n",
       "162 2017-07-31  17075.837826        17031.09       15178.46  17052.68\n",
       "163 2017-08-31  17120.585652        17031.09       15178.46  17074.27\n",
       "164 2017-09-30  17163.890000        17031.09       15178.46  17095.86\n",
       "165 2017-10-31  17202.542283        17031.09       15178.46  17117.45\n",
       "166 2017-11-30  17239.947717        17031.09       15178.46  17139.04"
      ]
     },
     "execution_count": 25,
     "metadata": {},
     "output_type": "execute_result"
    }
   ],
   "source": [
    "y_hat.head()"
   ]
  },
  {
   "cell_type": "code",
   "execution_count": 26,
   "id": "adad5a96",
   "metadata": {
    "colab": {
     "base_uri": "https://localhost:8080/",
     "height": 320
    },
    "id": "adad5a96",
    "outputId": "749f4405-5661-48b8-bab8-dbc7fa2d14fa"
   },
   "outputs": [
    {
     "data": {
      "image/png": "[encoded data removed]",
      "text/plain": [
       "<Figure size 1080x360 with 1 Axes>"
      ]
     },
     "metadata": {
      "needs_background": "light"
     },
     "output_type": "display_data"
    }
   ],
   "source": [
    "plt.figure(figsize=(15,5))\n",
    "plt.plot(train[\"Real GDP\"],label=\"train\")\n",
    "plt.plot(y_hat[\"Real GDP\"],label=\"valid\")\n",
    "plt.plot(y_hat[\"Naive_Forecast\"],label=\"Naive Approach\")\n",
    "plt.plot(y_hat[\"Average_Model\"],label=\"Average\")\n",
    "plt.plot(y_hat[\"Drift\"],label=\"Drift\")\n",
    "plt.legend()\n",
    "plt.show()"
   ]
  },
  {
   "cell_type": "code",
   "execution_count": 27,
   "id": "907aa0c1",
   "metadata": {
    "colab": {
     "base_uri": "https://localhost:8080/"
    },
    "id": "907aa0c1",
    "outputId": "5fbf33a5-790a-4126-e952-cadb841002fe"
   },
   "outputs": [
    {
     "name": "stdout",
     "output_type": "stream",
     "text": [
      "MAPE:  0.009827575390617613\n",
      "RMSE:  192.14042515514652\n"
     ]
    }
   ],
   "source": [
    "print(\"MAPE: \",mean_absolute_percentage_error(y_hat[\"Real GDP\"],y_hat[\"Drift\"]))\n",
    "print(\"RMSE: \",sqrt(mean_squared_error(y_hat[\"Real GDP\"],y_hat[\"Drift\"])))"
   ]
  },
  {
   "cell_type": "code",
   "execution_count": 27,
   "id": "d4abaad7",
   "metadata": {},
   "outputs": [],
   "source": [
    "#Decomposing the time series"
   ]
  },
  {
   "cell_type": "code",
   "execution_count": 28,
   "id": "61c217ae",
   "metadata": {},
   "outputs": [],
   "source": [
    "from statsmodels.tsa.seasonal import seasonal_decompose"
   ]
  },
  {
   "cell_type": "code",
   "execution_count": 29,
   "id": "def8983e",
   "metadata": {},
   "outputs": [
    {
     "data": {
      "text/plain": [
       "<statsmodels.tsa.seasonal.DecomposeResult at 0x21408585a00>"
      ]
     },
     "execution_count": 29,
     "metadata": {},
     "output_type": "execute_result"
    }
   ],
   "source": [
    "result=seasonal_decompose(train[\"Real GDP\"], model='multiplicable', period=12)\n",
    "result"
   ]
  },
  {
   "cell_type": "code",
   "execution_count": 30,
   "id": "17f46ed7",
   "metadata": {
    "scrolled": false
   },
   "outputs": [
    {
     "data": {
      "image/png": "[encoded data removed]",
      "text/plain": [
       "<Figure size 1080x720 with 4 Axes>"
      ]
     },
     "metadata": {
      "needs_background": "light"
     },
     "output_type": "display_data"
    }
   ],
   "source": [
    "from pylab import rcParams\n",
    "rcParams['figure.figsize']=15,10\n",
    "\n",
    "result.plot();"
   ]
  },
  {
   "cell_type": "markdown",
   "id": "355342cc",
   "metadata": {},
   "source": [
    "# Advance Methods"
   ]
  },
  {
   "cell_type": "markdown",
   "id": "db4af43a",
   "metadata": {
    "id": "db4af43a"
   },
   "source": [
    "### Single Exponential Smoothing"
   ]
  },
  {
   "cell_type": "code",
   "execution_count": 31,
   "id": "d88bd1e3",
   "metadata": {
    "id": "d88bd1e3",
    "outputId": "145910e5-d46c-4d87-e29c-514cd01ec8b3",
    "scrolled": false
   },
   "outputs": [
    {
     "data": {
      "image/png": "[encoded data removed]",
      "text/plain": [
       "<Figure size 1440x360 with 1 Axes>"
      ]
     },
     "metadata": {
      "needs_background": "light"
     },
     "output_type": "display_data"
    },
    {
     "data": {
      "image/png": "[encoded data removed]",
      "text/plain": [
       "<Figure size 1440x360 with 1 Axes>"
      ]
     },
     "metadata": {
      "needs_background": "light"
     },
     "output_type": "display_data"
    },
    {
     "name": "stdout",
     "output_type": "stream",
     "text": [
      "optimal alpha chosen: 0.995\n"
     ]
    },
    {
     "data": {
      "image/png": "[encoded data removed]",
      "text/plain": [
       "<Figure size 1440x360 with 1 Axes>"
      ]
     },
     "metadata": {
      "needs_background": "light"
     },
     "output_type": "display_data"
    },
    {
     "data": {
      "image/png": "[encoded data removed]",
      "text/plain": [
       "<Figure size 1440x360 with 1 Axes>"
      ]
     },
     "metadata": {
      "needs_background": "light"
     },
     "output_type": "display_data"
    },
    {
     "name": "stdout",
     "output_type": "stream",
     "text": [
      "MAPE for model with optimal alpha::  0.02154995691896504\n",
      "RMSE for model with optimal alpha:  425.92436972783753\n"
     ]
    },
    {
     "data": {
      "text/html": [
       "<div>\n",
       "<style scoped>\n",
       "    .dataframe tbody tr th:only-of-type {\n",
       "        vertical-align: middle;\n",
       "    }\n",
       "\n",
       "    .dataframe tbody tr th {\n",
       "        vertical-align: top;\n",
       "    }\n",
       "\n",
       "    .dataframe thead th {\n",
       "        text-align: right;\n",
       "    }\n",
       "</style>\n",
       "<table border=\"1\" class=\"dataframe\">\n",
       "  <thead>\n",
       "    <tr style=\"text-align: right;\">\n",
       "      <th></th>\n",
       "      <th>alpha</th>\n",
       "      <th>mpe</th>\n",
       "    </tr>\n",
       "  </thead>\n",
       "  <tbody>\n",
       "    <tr>\n",
       "      <th>99</th>\n",
       "      <td>0.99</td>\n",
       "      <td>0.021562</td>\n",
       "    </tr>\n",
       "    <tr>\n",
       "      <th>98</th>\n",
       "      <td>0.98</td>\n",
       "      <td>0.021587</td>\n",
       "    </tr>\n",
       "    <tr>\n",
       "      <th>97</th>\n",
       "      <td>0.97</td>\n",
       "      <td>0.021613</td>\n",
       "    </tr>\n",
       "    <tr>\n",
       "      <th>96</th>\n",
       "      <td>0.96</td>\n",
       "      <td>0.021639</td>\n",
       "    </tr>\n",
       "    <tr>\n",
       "      <th>95</th>\n",
       "      <td>0.95</td>\n",
       "      <td>0.021665</td>\n",
       "    </tr>\n",
       "    <tr>\n",
       "      <th>...</th>\n",
       "      <td>...</td>\n",
       "      <td>...</td>\n",
       "    </tr>\n",
       "    <tr>\n",
       "      <th>4</th>\n",
       "      <td>0.04</td>\n",
       "      <td>0.059866</td>\n",
       "    </tr>\n",
       "    <tr>\n",
       "      <th>3</th>\n",
       "      <td>0.03</td>\n",
       "      <td>0.071220</td>\n",
       "    </tr>\n",
       "    <tr>\n",
       "      <th>2</th>\n",
       "      <td>0.02</td>\n",
       "      <td>0.090283</td>\n",
       "    </tr>\n",
       "    <tr>\n",
       "      <th>1</th>\n",
       "      <td>0.01</td>\n",
       "      <td>0.127924</td>\n",
       "    </tr>\n",
       "    <tr>\n",
       "      <th>0</th>\n",
       "      <td>0.00</td>\n",
       "      <td>0.221232</td>\n",
       "    </tr>\n",
       "  </tbody>\n",
       "</table>\n",
       "<p>100 rows × 2 columns</p>\n",
       "</div>"
      ],
      "text/plain": [
       "    alpha       mpe\n",
       "99   0.99  0.021562\n",
       "98   0.98  0.021587\n",
       "97   0.97  0.021613\n",
       "96   0.96  0.021639\n",
       "95   0.95  0.021665\n",
       "..    ...       ...\n",
       "4    0.04  0.059866\n",
       "3    0.03  0.071220\n",
       "2    0.02  0.090283\n",
       "1    0.01  0.127924\n",
       "0    0.00  0.221232\n",
       "\n",
       "[100 rows x 2 columns]"
      ]
     },
     "metadata": {},
     "output_type": "display_data"
    },
    {
     "data": {
      "image/png": "[encoded data removed]",
      "text/plain": [
       "<Figure size 1440x360 with 1 Axes>"
      ]
     },
     "metadata": {
      "needs_background": "light"
     },
     "output_type": "display_data"
    },
    {
     "name": "stdout",
     "output_type": "stream",
     "text": [
      "MAPE of Single Exponential Smoothing 0.02156225414961193\n"
     ]
    }
   ],
   "source": [
    "#plotting the entire data\n",
    "plt.figure(figsize=(20,5))\n",
    "plt.plot(data[\"Real GDP\"])\n",
    "plt.title(\"Real GDP\")\n",
    "plt.show()\n",
    "\n",
    "#splitting into train & test\n",
    "train=data.iloc[:162]\n",
    "valid=data.iloc[162:180]\n",
    "y_hat = valid.copy()\n",
    "\n",
    "#plotting data after train test split\n",
    "plt.figure(figsize=(20,5))\n",
    "plt.plot(train[\"Real GDP\"],label='train')\n",
    "plt.plot(valid[\"Real GDP\"],label='valid')\n",
    "plt.title(\"Real GDP with train test split\")\n",
    "plt.legend()\n",
    "plt.show()\n",
    "\n",
    "# fitting SES model with optimal alpha\n",
    "fitx = SimpleExpSmoothing(np.asarray(train[\"Real GDP\"])).fit(optimized=True)\n",
    "print('optimal alpha chosen:', fitx.model.params['smoothing_level'])\n",
    "\n",
    "#plotting data with fitted values\n",
    "plt.figure(figsize=(20,5))\n",
    "plt.plot(train[\"Real GDP\"],label='train')\n",
    "plt.plot(valid[\"Real GDP\"],label='valid')\n",
    "plt.plot(fitx.fittedvalues, label = 'fitted line on train')\n",
    "plt.title('Real GDP with fitted values (optimal alpha from model)')\n",
    "plt.legend()\n",
    "plt.show()\n",
    "\n",
    "#forecasting based on optimal model\n",
    "y_hat['SES Forecasted Values'] = fitx.forecast(len(y_hat))\n",
    "y_hat\n",
    "\n",
    "#plotting with fitted & forecasted values\n",
    "plt.figure(figsize=(20,5))\n",
    "plt.plot(train[\"Real GDP\"],label='train')\n",
    "plt.plot(valid[\"Real GDP\"],label='valid')\n",
    "plt.plot(fitx.fittedvalues, label = 'fitted line on train')\n",
    "plt.plot(y_hat['SES Forecasted Values'], label = 'forecasted line on test')\n",
    "plt.title('Real GDP with fitted values (optimal alpha) & forecasted values')\n",
    "plt.legend()\n",
    "plt.show()\n",
    "\n",
    "# calculating RMSE and Mape of the forecast on test data\n",
    "rms = sqrt(mean_squared_error(valid[\"Real GDP\"], y_hat['SES Forecasted Values'])) \n",
    "mape = mean_absolute_percentage_error(y_hat[\"Real GDP\"],y_hat[\"SES Forecasted Values\"])\n",
    "print(\"MAPE for model with optimal alpha:: \", mape)\n",
    "print('RMSE for model with optimal alpha: ', rms)\n",
    "\n",
    "#calculating the best alpha value which provides the lowest rmse on forecasted values\n",
    "mpe = {}\n",
    "cols = ['alpha', 'mpe']\n",
    "for i in np.arange(0,1,0.01):\n",
    "    fit2 = SimpleExpSmoothing(np.asarray(train[\"Real GDP\"])).fit(smoothing_level=i, optimized=False)\n",
    "    y_hat['SES Forecasted Values with mentioned alpha'] = fit2.forecast(len(y_hat))\n",
    "    mpe[i] = mean_absolute_percentage_error(valid[\"Real GDP\"],y_hat[\"SES Forecasted Values with mentioned alpha\"])\n",
    "    \n",
    "df = pd.DataFrame(list(mpe.items()),columns = ['alpha','mpe']) \n",
    "display(df.sort_values(by = 'mpe'))\n",
    "\n",
    "least_alpha = df.sort_values(by = 'mpe').iloc[0][0]\n",
    "\n",
    "#fitting model using above alpha\n",
    "fit3 = SimpleExpSmoothing(np.asarray(train[\"Real GDP\"])).fit(smoothing_level=least_alpha, optimized=False)\n",
    "y_hat['SES Forecasted Values with mentioned alpha'] = fit3.forecast(len(y_hat))\n",
    "\n",
    "#plotting with forecasted values using optimal alpha & above alpha\n",
    "plt.figure(figsize=(20,5))\n",
    "plt.plot(train[\"Real GDP\"],label='train')\n",
    "plt.plot(valid[\"Real GDP\"],label='valid')\n",
    "plt.plot(fit3.fittedvalues, label = 'fitted line on train')\n",
    "plt.plot(y_hat['SES Forecasted Values'], label = 'forecasted line on test with optimal alpha')\n",
    "plt.plot(y_hat['SES Forecasted Values with mentioned alpha'], label = 'forecasted line on test with above alpha')\n",
    "plt.title('Real GDP with fitted values (optimal alpha)')\n",
    "plt.legend()\n",
    "plt.show()\n",
    "\n",
    "#final rmse\n",
    "mpe = mean_absolute_percentage_error(valid[\"Real GDP\"],y_hat[\"SES Forecasted Values with mentioned alpha\"])\n",
    "\n",
    "print(\"MAPE of Single Exponential Smoothing\",mpe)"
   ]
  },
  {
   "cell_type": "markdown",
   "id": "0af03720",
   "metadata": {
    "id": "0af03720"
   },
   "source": [
    "### Double Exponential Smoothing"
   ]
  },
  {
   "cell_type": "code",
   "execution_count": 32,
   "id": "d3c07ab9",
   "metadata": {
    "id": "d3c07ab9"
   },
   "outputs": [
    {
     "data": {
      "text/plain": [
       "array([   0, 6663, 6664, ..., 3336, 3329, 9999], dtype=int64)"
      ]
     },
     "execution_count": 32,
     "metadata": {},
     "output_type": "execute_result"
    }
   ],
   "source": [
    "#finding aplha using for loop\n",
    "alpha=np.round(np.arange(0, 1, 0.01).tolist(),2)\n",
    "beta=np.round(np.arange(0, 1, 0.01).tolist(),2)\n",
    "\n",
    "mpe=[]\n",
    "mpe_ij=[]\n",
    "\n",
    "for i in alpha:\n",
    "    for j in beta:\n",
    "        fit = Holt(np.asanyarray(train[\"Real GDP\"])).fit(smoothing_level=i, smoothing_slope=j, optimized=False)\n",
    "        \n",
    "        mpe_train = np.round(mean_absolute_percentage_error(train[\"Real GDP\"],fit.fittedvalues))\n",
    "        mpe.append((mpe_train))\n",
    "        mpe_ij.append((i,j,mpe_train))\n",
    "#print(rmse)\n",
    "np.argsort(mpe) #sort it ascending order"
   ]
  },
  {
   "cell_type": "code",
   "execution_count": 33,
   "id": "196edfb2",
   "metadata": {
    "id": "196edfb2",
    "outputId": "4cb4ec9b-69fd-481c-d4e9-d442e8e20545"
   },
   "outputs": [
    {
     "data": {
      "text/plain": [
       "(0.99, 0.99, 0.0)"
      ]
     },
     "execution_count": 33,
     "metadata": {},
     "output_type": "execute_result"
    }
   ],
   "source": [
    "mpe_ij[9999] #index with min rmse with resp alpha and beta"
   ]
  },
  {
   "cell_type": "code",
   "execution_count": 35,
   "id": "c4c17694",
   "metadata": {
    "id": "c4c17694",
    "outputId": "c81332cf-c033-41e4-97cf-53edfc09b9a7"
   },
   "outputs": [
    {
     "data": {
      "image/png": "[encoded data removed]",
      "text/plain": [
       "<Figure size 1080x504 with 1 Axes>"
      ]
     },
     "metadata": {
      "needs_background": "light"
     },
     "output_type": "display_data"
    },
    {
     "name": "stdout",
     "output_type": "stream",
     "text": [
      "MAPE of Double Exponential Smoothing(Holt linear) 0.0015\n"
     ]
    }
   ],
   "source": [
    "# using Holt's linear model predict for valid set\n",
    "y_hat1 = valid.copy()\n",
    "fit = Holt(np.asanyarray(train[\"Real GDP\"])).fit(smoothing_level=0.99, smoothing_slope=0.99, optimized=True)\n",
    "y_hat1['Holt_linear'] = fit.forecast(len(valid))\n",
    "y_hat1.head()\n",
    "\n",
    "# plot the forecast\n",
    "plt.figure(figsize=(15,7))\n",
    "plt.plot(train[\"Real GDP\"], label='train')\n",
    "plt.plot(valid[\"Real GDP\"], label='Actual')\n",
    "plt.plot(y_hat1['Holt_linear'], label='Holt linear')\n",
    "plt.legend(loc='best')\n",
    "plt.show()\n",
    "\n",
    "# compute the error\n",
    "mape=np.round(mean_absolute_percentage_error(valid[\"Real GDP\"],y_hat1['Holt_linear']),4)\n",
    "\n",
    "print(\"MAPE of Double Exponential Smoothing(Holt linear)\",mape)"
   ]
  },
  {
   "cell_type": "markdown",
   "id": "7833b99c",
   "metadata": {
    "id": "7833b99c"
   },
   "source": [
    "# Triple Exponential Smoothing"
   ]
  },
  {
   "cell_type": "code",
   "execution_count": 36,
   "id": "025684af",
   "metadata": {
    "id": "025684af"
   },
   "outputs": [],
   "source": [
    "min_rmse=1000000"
   ]
  },
  {
   "cell_type": "code",
   "execution_count": 37,
   "id": "d5a7da9f",
   "metadata": {
    "id": "d5a7da9f"
   },
   "outputs": [],
   "source": [
    "s_level=np.linspace(0,1,10)\n",
    "s_slope=np.linspace(0,1,10)\n",
    "d_trend=np.linspace(0,1,10)\n",
    "s_seasonal=np.linspace(0,1,10)"
   ]
  },
  {
   "cell_type": "code",
   "execution_count": 38,
   "id": "e09e6239",
   "metadata": {
    "id": "e09e6239",
    "outputId": "5f697730-26b6-4be4-f3a4-1fbc8875bee1",
    "scrolled": false
   },
   "outputs": [],
   "source": [
    "# for sp in range(2,16):\n",
    "#     for sl in s_level:\n",
    "#         for ssl in s_slope:\n",
    "#             for dt in d_trend:\n",
    "#                 for ss in s_seasonal:\n",
    "#                     model = ExponentialSmoothing(np.asarray(train[\"Real GDP\"]), seasonal_periods=sp, trend='add',damped_trend=True, seasonal='mul')\n",
    "#                     fit1 = model.fit(smoothing_level=sl, smoothing_slope=ssl,damping_trend=dt, smoothing_seasonal=ss, optimized=False)\n",
    "#                     y_hat['TES_add_mul'] = fit1.forecast(len(valid))\n",
    "#                     rmse=sqrt(mean_squared_error(valid[\"Real GDP\"], y_hat['TES_add_mul']))\n",
    "#                     if rmse<min_rmse:\n",
    "#                         print(\"\\nseasonal_period:{},smoothing_level:{},smoothing_slope:{},damping_trend:{},smoothing_seasonal:{}\".format(sp,sl,ssl,dt,ss))\n",
    "#                         print(\"rmse: \",rmse)\n",
    "#                         min_rmse=rmse"
   ]
  },
  {
   "cell_type": "code",
   "execution_count": 39,
   "id": "684c0079",
   "metadata": {
    "id": "684c0079",
    "outputId": "824d6f44-0626-474d-b668-be1f07e50d7c"
   },
   "outputs": [
    {
     "data": {
      "text/html": [
       "<div>\n",
       "<style scoped>\n",
       "    .dataframe tbody tr th:only-of-type {\n",
       "        vertical-align: middle;\n",
       "    }\n",
       "\n",
       "    .dataframe tbody tr th {\n",
       "        vertical-align: top;\n",
       "    }\n",
       "\n",
       "    .dataframe thead th {\n",
       "        text-align: right;\n",
       "    }\n",
       "</style>\n",
       "<table border=\"1\" class=\"dataframe\">\n",
       "  <thead>\n",
       "    <tr style=\"text-align: right;\">\n",
       "      <th></th>\n",
       "      <th>Date</th>\n",
       "      <th>Real GDP</th>\n",
       "      <th>SES Forecasted Values</th>\n",
       "      <th>SES Forecasted Values with mentioned alpha</th>\n",
       "      <th>TES_add_mul</th>\n",
       "    </tr>\n",
       "  </thead>\n",
       "  <tbody>\n",
       "    <tr>\n",
       "      <th>162</th>\n",
       "      <td>2017-07-31</td>\n",
       "      <td>17075.837826</td>\n",
       "      <td>17030.878164</td>\n",
       "      <td>17030.664119</td>\n",
       "      <td>17078.450177</td>\n",
       "    </tr>\n",
       "    <tr>\n",
       "      <th>163</th>\n",
       "      <td>2017-08-31</td>\n",
       "      <td>17120.585652</td>\n",
       "      <td>17030.878164</td>\n",
       "      <td>17030.664119</td>\n",
       "      <td>17118.132664</td>\n",
       "    </tr>\n",
       "    <tr>\n",
       "      <th>164</th>\n",
       "      <td>2017-09-30</td>\n",
       "      <td>17163.890000</td>\n",
       "      <td>17030.878164</td>\n",
       "      <td>17030.664119</td>\n",
       "      <td>17159.164683</td>\n",
       "    </tr>\n",
       "    <tr>\n",
       "      <th>165</th>\n",
       "      <td>2017-10-31</td>\n",
       "      <td>17202.542283</td>\n",
       "      <td>17030.878164</td>\n",
       "      <td>17030.664119</td>\n",
       "      <td>17196.698695</td>\n",
       "    </tr>\n",
       "    <tr>\n",
       "      <th>166</th>\n",
       "      <td>2017-11-30</td>\n",
       "      <td>17239.947717</td>\n",
       "      <td>17030.878164</td>\n",
       "      <td>17030.664119</td>\n",
       "      <td>17233.228106</td>\n",
       "    </tr>\n",
       "  </tbody>\n",
       "</table>\n",
       "</div>"
      ],
      "text/plain": [
       "          Date      Real GDP  SES Forecasted Values  \\\n",
       "162 2017-07-31  17075.837826           17030.878164   \n",
       "163 2017-08-31  17120.585652           17030.878164   \n",
       "164 2017-09-30  17163.890000           17030.878164   \n",
       "165 2017-10-31  17202.542283           17030.878164   \n",
       "166 2017-11-30  17239.947717           17030.878164   \n",
       "\n",
       "     SES Forecasted Values with mentioned alpha   TES_add_mul  \n",
       "162                                17030.664119  17078.450177  \n",
       "163                                17030.664119  17118.132664  \n",
       "164                                17030.664119  17159.164683  \n",
       "165                                17030.664119  17196.698695  \n",
       "166                                17030.664119  17233.228106  "
      ]
     },
     "execution_count": 39,
     "metadata": {},
     "output_type": "execute_result"
    }
   ],
   "source": [
    "# The best parameters.\n",
    "model = ExponentialSmoothing(np.asarray(train[\"Real GDP\"]), seasonal_periods=5, trend='add',damped_trend=True, seasonal='mul')\n",
    "fit1 = model.fit(smoothing_level=0.2222222222222222, smoothing_slope=0.0,damping_trend=1, smoothing_seasonal=0.1111111111111111, optimized=False)\n",
    "y_hat['TES_add_mul'] = fit1.forecast(len(valid))\n",
    "y_hat.head()"
   ]
  },
  {
   "cell_type": "code",
   "execution_count": 40,
   "id": "d6ca57f0",
   "metadata": {
    "id": "d6ca57f0"
   },
   "outputs": [],
   "source": [
    "# Check the RMSE , MAE and MAPE, The values are lower than our benchmark model"
   ]
  },
  {
   "cell_type": "code",
   "execution_count": 41,
   "id": "b9523b94",
   "metadata": {
    "id": "b9523b94",
    "outputId": "6808c4a0-567b-4c60-8b21-4aec0ed7a5b8",
    "scrolled": true
   },
   "outputs": [
    {
     "name": "stdout",
     "output_type": "stream",
     "text": [
      "Triple Exponential Smoothing rmse,mae,mape:  5.196135189409755 4.566073269272238 0.0002624385588405984\n"
     ]
    }
   ],
   "source": [
    "rmse=sqrt(mean_squared_error(valid[\"Real GDP\"], y_hat['TES_add_mul']))\n",
    "mae=(mean_absolute_error(valid[\"Real GDP\"], y_hat['TES_add_mul']))\n",
    "mape=(mean_absolute_percentage_error(valid[\"Real GDP\"], y_hat['TES_add_mul']))\n",
    "print(\"Triple Exponential Smoothing rmse,mae,mape: \",rmse,mae,mape)"
   ]
  },
  {
   "cell_type": "code",
   "execution_count": 42,
   "id": "25eda2e9",
   "metadata": {
    "id": "25eda2e9"
   },
   "outputs": [],
   "source": [
    "# Plotting the forecast on along with Test Data"
   ]
  },
  {
   "cell_type": "code",
   "execution_count": 43,
   "id": "7ce9443b",
   "metadata": {
    "id": "7ce9443b",
    "outputId": "9f358696-c2e7-4b1a-8c97-3fe6ede9d465"
   },
   "outputs": [
    {
     "data": {
      "text/plain": [
       "<matplotlib.legend.Legend at 0x1aa356748e0>"
      ]
     },
     "execution_count": 43,
     "metadata": {},
     "output_type": "execute_result"
    },
    {
     "data": {
      "image/png": "[encoded data removed]",
      "text/plain": [
       "<Figure size 1080x720 with 1 Axes>"
      ]
     },
     "metadata": {
      "needs_background": "light"
     },
     "output_type": "display_data"
    }
   ],
   "source": [
    "plt.figure(figsize=(15,10))\n",
    "plt.plot(train[\"Real GDP\"],label=\"Train data\")\n",
    "plt.plot(valid[\"Real GDP\"],label=\"valid data\")\n",
    "\n",
    "plt.plot(y_hat[\"TES_add_mul\"],label=\"TES Forecast\")\n",
    "\n",
    "plt.legend()"
   ]
  },
  {
   "cell_type": "markdown",
   "id": "dc440744",
   "metadata": {},
   "source": [
    "# ADFULLER Test to Check for Non-Stationarity"
   ]
  },
  {
   "cell_type": "code",
   "execution_count": 44,
   "id": "e0b21efc",
   "metadata": {},
   "outputs": [
    {
     "data": {
      "text/plain": [
       "(0.0768482311083353,\n",
       " 0.9644444019331854,\n",
       " 7,\n",
       " 154,\n",
       " {'1%': -3.473542528196209,\n",
       "  '5%': -2.880497674144038,\n",
       "  '10%': -2.576878053634677},\n",
       " 1276.726461912024)"
      ]
     },
     "execution_count": 44,
     "metadata": {},
     "output_type": "execute_result"
    }
   ],
   "source": [
    "result=adfuller(train[\"Real GDP\"])\n",
    "result"
   ]
  },
  {
   "cell_type": "code",
   "execution_count": 45,
   "id": "78f1144d",
   "metadata": {},
   "outputs": [
    {
     "data": {
      "text/plain": [
       "0.0768482311083353"
      ]
     },
     "execution_count": 45,
     "metadata": {},
     "output_type": "execute_result"
    }
   ],
   "source": [
    "result[0]"
   ]
  },
  {
   "cell_type": "code",
   "execution_count": 46,
   "id": "b1bf1d66",
   "metadata": {},
   "outputs": [
    {
     "data": {
      "text/plain": [
       "{'1%': -3.473542528196209, '5%': -2.880497674144038, '10%': -2.576878053634677}"
      ]
     },
     "execution_count": 46,
     "metadata": {},
     "output_type": "execute_result"
    }
   ],
   "source": [
    "result[4]"
   ]
  },
  {
   "cell_type": "code",
   "execution_count": 47,
   "id": "bef87b25",
   "metadata": {
    "id": "bef87b25",
    "outputId": "807077d0-43cf-4198-8553-19b242641676"
   },
   "outputs": [
    {
     "name": "stdout",
     "output_type": "stream",
     "text": [
      "critical values {'1%': -3.473542528196209, '5%': -2.880497674144038, '10%': -2.576878053634677}\n",
      "ADF Stat:  0.0768482311083353\n",
      "Not Stationery\n"
     ]
    }
   ],
   "source": [
    "result=adfuller(train[\"Real GDP\"])\n",
    "print(\"critical values\",result[4])\n",
    "print(\"ADF Stat: \",result[0])\n",
    "if result[0]<result[4]['5%']:\n",
    "    print(\"Stationery\")\n",
    "else:\n",
    "    print(\"Not Stationery\")"
   ]
  },
  {
   "cell_type": "code",
   "execution_count": 48,
   "id": "0935d065",
   "metadata": {
    "id": "0935d065"
   },
   "outputs": [],
   "source": [
    "# Checking significance of the coefficients of the number of lag terms through pacf, or on other words the order of AR"
   ]
  },
  {
   "cell_type": "code",
   "execution_count": 49,
   "id": "007a70d2",
   "metadata": {},
   "outputs": [
    {
     "data": {
      "image/png": "[encoded data removed]",
      "text/plain": [
       "<Figure size 720x504 with 1 Axes>"
      ]
     },
     "metadata": {
      "needs_background": "light"
     },
     "output_type": "display_data"
    }
   ],
   "source": [
    "# Change for (t)th day is----- for (t)th day minus Close for (t-1)th day.\n",
    "train_diff = train[\"Real GDP\"].diff()\n",
    "\n",
    "# Plot the Change\n",
    "plt.figure(figsize=(10, 7))\n",
    "plt.plot(train_diff)\n",
    "plt.title('First Order Differenced Series', fontsize=14)\n",
    "plt.xlabel('Year', fontsize=12)\n",
    "plt.ylabel('Difference', fontsize=12)\n",
    "plt.show()"
   ]
  },
  {
   "cell_type": "code",
   "execution_count": 50,
   "id": "701212c0",
   "metadata": {},
   "outputs": [],
   "source": [
    "train_diff.dropna(inplace=True)"
   ]
  },
  {
   "cell_type": "code",
   "execution_count": 51,
   "id": "e126d4e5",
   "metadata": {},
   "outputs": [
    {
     "data": {
      "text/plain": [
       "1      24.793407\n",
       "2      26.503297\n",
       "3      32.881319\n",
       "4      33.977363\n",
       "5      32.881319\n",
       "         ...    \n",
       "157    16.121778\n",
       "158    17.849111\n",
       "159    42.148352\n",
       "160    43.553297\n",
       "161    42.148352\n",
       "Name: Real GDP, Length: 161, dtype: float64"
      ]
     },
     "execution_count": 51,
     "metadata": {},
     "output_type": "execute_result"
    }
   ],
   "source": [
    "train_diff"
   ]
  },
  {
   "cell_type": "code",
   "execution_count": 52,
   "id": "aaa5272c",
   "metadata": {},
   "outputs": [
    {
     "name": "stdout",
     "output_type": "stream",
     "text": [
      "critical values {'1%': -3.473542528196209, '5%': -2.880497674144038, '10%': -2.576878053634677}\n",
      "ADF Stat:  -2.859245310916092\n",
      "Not Stationery\n"
     ]
    }
   ],
   "source": [
    "result=adfuller(train_diff)\n",
    "print(\"critical values\",result[4])\n",
    "print(\"ADF Stat: \",result[0])\n",
    "if result[0]<result[4]['5%']:\n",
    "    print(\"Stationery\")\n",
    "else:\n",
    "    print(\"Not Stationery\")"
   ]
  },
  {
   "cell_type": "code",
   "execution_count": 53,
   "id": "5c07ea87",
   "metadata": {},
   "outputs": [
    {
     "data": {
      "text/plain": [
       "(-2.859245310916092,\n",
       " 0.05029661767715067,\n",
       " 6,\n",
       " 154,\n",
       " {'1%': -3.473542528196209,\n",
       "  '5%': -2.880497674144038,\n",
       "  '10%': -2.576878053634677},\n",
       " 1266.341641454558)"
      ]
     },
     "execution_count": 53,
     "metadata": {},
     "output_type": "execute_result"
    }
   ],
   "source": [
    "result=adfuller(train_diff)\n",
    "result"
   ]
  },
  {
   "cell_type": "code",
   "execution_count": 54,
   "id": "4a2f395f",
   "metadata": {},
   "outputs": [],
   "source": [
    "train_diff2 = train_diff.diff()"
   ]
  },
  {
   "cell_type": "code",
   "execution_count": 55,
   "id": "defb3577",
   "metadata": {},
   "outputs": [],
   "source": [
    "train_diff2.dropna(inplace=True)"
   ]
  },
  {
   "cell_type": "code",
   "execution_count": 56,
   "id": "8d45522c",
   "metadata": {},
   "outputs": [
    {
     "data": {
      "text/plain": [
       "2       1.709890\n",
       "3       6.378022\n",
       "4       1.096044\n",
       "5      -1.096044\n",
       "6       9.096725\n",
       "         ...    \n",
       "157    -1.727333\n",
       "158     1.727333\n",
       "159    24.299240\n",
       "160     1.404945\n",
       "161    -1.404945\n",
       "Name: Real GDP, Length: 160, dtype: float64"
      ]
     },
     "execution_count": 56,
     "metadata": {},
     "output_type": "execute_result"
    }
   ],
   "source": [
    "train_diff2"
   ]
  },
  {
   "cell_type": "code",
   "execution_count": 57,
   "id": "ee9e6af4",
   "metadata": {},
   "outputs": [
    {
     "name": "stdout",
     "output_type": "stream",
     "text": [
      "critical values {'1%': -3.473542528196209, '5%': -2.880497674144038, '10%': -2.576878053634677}\n",
      "ADF Stat:  -7.26767033224059\n",
      "Stationery\n"
     ]
    }
   ],
   "source": [
    "result=adfuller(train_diff2)\n",
    "print(\"critical values\",result[4])\n",
    "print(\"ADF Stat: \",result[0])\n",
    "if result[0]<result[4]['5%']:\n",
    "    print(\"Stationery\")\n",
    "else:\n",
    "    print(\"Not Stationery\")"
   ]
  },
  {
   "cell_type": "code",
   "execution_count": 58,
   "id": "ae6e33c2",
   "metadata": {
    "id": "ae6e33c2",
    "outputId": "9ece6425-f1c4-41c1-86ad-91c152a0b0e9"
   },
   "outputs": [
    {
     "data": {
      "image/png": "[encoded data removed]",
      "text/plain": [
       "<Figure size 1080x720 with 1 Axes>"
      ]
     },
     "metadata": {
      "needs_background": "light"
     },
     "output_type": "display_data"
    }
   ],
   "source": [
    "plot_pacf(train_diff2, alpha=0.05)\n",
    "plt.show()"
   ]
  },
  {
   "cell_type": "code",
   "execution_count": 59,
   "id": "18b09bb1",
   "metadata": {
    "id": "18b09bb1",
    "outputId": "1d16f793-4ca1-4330-eed3-7b3d48cf192b"
   },
   "outputs": [
    {
     "data": {
      "image/png": "[encoded data removed]",
      "text/plain": [
       "<Figure size 1080x720 with 1 Axes>"
      ]
     },
     "metadata": {
      "needs_background": "light"
     },
     "output_type": "display_data"
    }
   ],
   "source": [
    "plot_acf(train_diff2, alpha=0.05,lags=100)\n",
    "plt.show()"
   ]
  },
  {
   "cell_type": "markdown",
   "id": "5a1c04b3",
   "metadata": {},
   "source": [
    "# Auto ARIMA"
   ]
  },
  {
   "cell_type": "code",
   "execution_count": 60,
   "id": "3470f5b5",
   "metadata": {
    "id": "3470f5b5",
    "outputId": "4b06257c-5bdf-4f35-ba20-05dcfc88defb"
   },
   "outputs": [
    {
     "name": "stdout",
     "output_type": "stream",
     "text": [
      "Performing stepwise search to minimize aic\n",
      " ARIMA(1,1,1)(0,0,0)[0] intercept   : AIC=1396.494, Time=0.30 sec\n",
      " ARIMA(0,1,0)(0,0,0)[0] intercept   : AIC=1556.317, Time=0.03 sec\n",
      " ARIMA(1,1,0)(0,0,0)[0] intercept   : AIC=1395.058, Time=0.11 sec\n",
      " ARIMA(0,1,1)(0,0,0)[0] intercept   : AIC=1467.269, Time=0.16 sec\n",
      " ARIMA(0,1,0)(0,0,0)[0]             : AIC=1621.425, Time=0.03 sec\n",
      " ARIMA(2,1,0)(0,0,0)[0] intercept   : AIC=1396.262, Time=0.20 sec\n",
      " ARIMA(2,1,1)(0,0,0)[0] intercept   : AIC=1397.889, Time=0.40 sec\n",
      " ARIMA(1,1,0)(0,0,0)[0]             : AIC=1399.596, Time=0.07 sec\n",
      "\n",
      "Best model:  ARIMA(1,1,0)(0,0,0)[0] intercept\n",
      "Total fit time: 1.315 seconds\n"
     ]
    }
   ],
   "source": [
    "seq_models=auto_arima(train[\"Real GDP\"],\n",
    "                      start_p=1,start_q=1,d=1,\n",
    "                      max_p=5,max_q=5,max_d=4,\n",
    "                      start_P=0,max_P=2,start_Q=0,max_Q=2,D=0,max_D=2,\n",
    "                      stepwise=True,trace=True)"
   ]
  },
  {
   "cell_type": "code",
   "execution_count": 61,
   "id": "59b0ea40",
   "metadata": {
    "id": "59b0ea40"
   },
   "outputs": [],
   "source": [
    "# Checking the peformance of the best model given by ARIMA(1,0,2)"
   ]
  },
  {
   "cell_type": "code",
   "execution_count": 62,
   "id": "150bf710",
   "metadata": {
    "id": "150bf710",
    "outputId": "2217ab01-27af-4efd-d762-f2368e6ae70c"
   },
   "outputs": [
    {
     "data": {
      "text/html": [
       "<table class=\"simpletable\">\n",
       "<caption>SARIMAX Results</caption>\n",
       "<tr>\n",
       "  <th>Dep. Variable:</th>       <td>Real GDP</td>     <th>  No. Observations:  </th>    <td>162</td>  \n",
       "</tr>\n",
       "<tr>\n",
       "  <th>Model:</th>            <td>ARIMA(1, 1, 0)</td>  <th>  Log Likelihood     </th> <td>-697.798</td>\n",
       "</tr>\n",
       "<tr>\n",
       "  <th>Date:</th>            <td>Mon, 30 Jan 2023</td> <th>  AIC                </th> <td>1399.596</td>\n",
       "</tr>\n",
       "<tr>\n",
       "  <th>Time:</th>                <td>21:06:26</td>     <th>  BIC                </th> <td>1405.759</td>\n",
       "</tr>\n",
       "<tr>\n",
       "  <th>Sample:</th>                  <td>0</td>        <th>  HQIC               </th> <td>1402.098</td>\n",
       "</tr>\n",
       "<tr>\n",
       "  <th></th>                      <td> - 162</td>      <th>                     </th>     <td> </td>   \n",
       "</tr>\n",
       "<tr>\n",
       "  <th>Covariance Type:</th>        <td>opg</td>       <th>                     </th>     <td> </td>   \n",
       "</tr>\n",
       "</table>\n",
       "<table class=\"simpletable\">\n",
       "<tr>\n",
       "     <td></td>       <th>coef</th>     <th>std err</th>      <th>z</th>      <th>P>|z|</th>  <th>[0.025</th>    <th>0.975]</th>  \n",
       "</tr>\n",
       "<tr>\n",
       "  <th>ar.L1</th>  <td>    0.8661</td> <td>    0.041</td> <td>   20.875</td> <td> 0.000</td> <td>    0.785</td> <td>    0.947</td>\n",
       "</tr>\n",
       "<tr>\n",
       "  <th>sigma2</th> <td>  338.0239</td> <td>   20.798</td> <td>   16.253</td> <td> 0.000</td> <td>  297.260</td> <td>  378.787</td>\n",
       "</tr>\n",
       "</table>\n",
       "<table class=\"simpletable\">\n",
       "<tr>\n",
       "  <th>Ljung-Box (L1) (Q):</th>     <td>0.01</td> <th>  Jarque-Bera (JB):  </th> <td>233.23</td>\n",
       "</tr>\n",
       "<tr>\n",
       "  <th>Prob(Q):</th>                <td>0.94</td> <th>  Prob(JB):          </th>  <td>0.00</td> \n",
       "</tr>\n",
       "<tr>\n",
       "  <th>Heteroskedasticity (H):</th> <td>0.97</td> <th>  Skew:              </th>  <td>-0.52</td>\n",
       "</tr>\n",
       "<tr>\n",
       "  <th>Prob(H) (two-sided):</th>    <td>0.92</td> <th>  Kurtosis:          </th>  <td>8.80</td> \n",
       "</tr>\n",
       "</table><br/><br/>Warnings:<br/>[1] Covariance matrix calculated using the outer product of gradients (complex-step)."
      ],
      "text/plain": [
       "<class 'statsmodels.iolib.summary.Summary'>\n",
       "\"\"\"\n",
       "                               SARIMAX Results                                \n",
       "==============================================================================\n",
       "Dep. Variable:               Real GDP   No. Observations:                  162\n",
       "Model:                 ARIMA(1, 1, 0)   Log Likelihood                -697.798\n",
       "Date:                Mon, 30 Jan 2023   AIC                           1399.596\n",
       "Time:                        21:06:26   BIC                           1405.759\n",
       "Sample:                             0   HQIC                          1402.098\n",
       "                                - 162                                         \n",
       "Covariance Type:                  opg                                         \n",
       "==============================================================================\n",
       "                 coef    std err          z      P>|z|      [0.025      0.975]\n",
       "------------------------------------------------------------------------------\n",
       "ar.L1          0.8661      0.041     20.875      0.000       0.785       0.947\n",
       "sigma2       338.0239     20.798     16.253      0.000     297.260     378.787\n",
       "===================================================================================\n",
       "Ljung-Box (L1) (Q):                   0.01   Jarque-Bera (JB):               233.23\n",
       "Prob(Q):                              0.94   Prob(JB):                         0.00\n",
       "Heteroskedasticity (H):               0.97   Skew:                            -0.52\n",
       "Prob(H) (two-sided):                  0.92   Kurtosis:                         8.80\n",
       "===================================================================================\n",
       "\n",
       "Warnings:\n",
       "[1] Covariance matrix calculated using the outer product of gradients (complex-step).\n",
       "\"\"\""
      ]
     },
     "execution_count": 62,
     "metadata": {},
     "output_type": "execute_result"
    }
   ],
   "source": [
    "ar1ma0=ARIMA(train[\"Real GDP\"], order=(1,1,0)).fit()\n",
    "ar1ma0.summary()"
   ]
  },
  {
   "cell_type": "code",
   "execution_count": 63,
   "id": "0398473f",
   "metadata": {
    "id": "0398473f"
   },
   "outputs": [],
   "source": [
    "y_hat['AR1MA0_Forecast']=ar1ma0.forecast(steps=len(valid))"
   ]
  },
  {
   "cell_type": "code",
   "execution_count": 64,
   "id": "d4bab8bb",
   "metadata": {
    "id": "d4bab8bb",
    "outputId": "6db66b60-704c-47d1-e232-a5f82a250738"
   },
   "outputs": [
    {
     "data": {
      "text/html": [
       "<div>\n",
       "<style scoped>\n",
       "    .dataframe tbody tr th:only-of-type {\n",
       "        vertical-align: middle;\n",
       "    }\n",
       "\n",
       "    .dataframe tbody tr th {\n",
       "        vertical-align: top;\n",
       "    }\n",
       "\n",
       "    .dataframe thead th {\n",
       "        text-align: right;\n",
       "    }\n",
       "</style>\n",
       "<table border=\"1\" class=\"dataframe\">\n",
       "  <thead>\n",
       "    <tr style=\"text-align: right;\">\n",
       "      <th></th>\n",
       "      <th>Date</th>\n",
       "      <th>Real GDP</th>\n",
       "      <th>SES Forecasted Values</th>\n",
       "      <th>SES Forecasted Values with mentioned alpha</th>\n",
       "      <th>TES_add_mul</th>\n",
       "      <th>AR1MA0_Forecast</th>\n",
       "    </tr>\n",
       "  </thead>\n",
       "  <tbody>\n",
       "    <tr>\n",
       "      <th>162</th>\n",
       "      <td>2017-07-31</td>\n",
       "      <td>17075.837826</td>\n",
       "      <td>17030.878164</td>\n",
       "      <td>17030.664119</td>\n",
       "      <td>17078.450177</td>\n",
       "      <td>17067.593092</td>\n",
       "    </tr>\n",
       "    <tr>\n",
       "      <th>163</th>\n",
       "      <td>2017-08-31</td>\n",
       "      <td>17120.585652</td>\n",
       "      <td>17030.878164</td>\n",
       "      <td>17030.664119</td>\n",
       "      <td>17118.132664</td>\n",
       "      <td>17099.207037</td>\n",
       "    </tr>\n",
       "    <tr>\n",
       "      <th>164</th>\n",
       "      <td>2017-09-30</td>\n",
       "      <td>17163.890000</td>\n",
       "      <td>17030.878164</td>\n",
       "      <td>17030.664119</td>\n",
       "      <td>17159.164683</td>\n",
       "      <td>17126.586678</td>\n",
       "    </tr>\n",
       "    <tr>\n",
       "      <th>165</th>\n",
       "      <td>2017-10-31</td>\n",
       "      <td>17202.542283</td>\n",
       "      <td>17030.878164</td>\n",
       "      <td>17030.664119</td>\n",
       "      <td>17196.698695</td>\n",
       "      <td>17150.299149</td>\n",
       "    </tr>\n",
       "    <tr>\n",
       "      <th>166</th>\n",
       "      <td>2017-11-30</td>\n",
       "      <td>17239.947717</td>\n",
       "      <td>17030.878164</td>\n",
       "      <td>17030.664119</td>\n",
       "      <td>17233.228106</td>\n",
       "      <td>17170.835622</td>\n",
       "    </tr>\n",
       "  </tbody>\n",
       "</table>\n",
       "</div>"
      ],
      "text/plain": [
       "          Date      Real GDP  SES Forecasted Values  \\\n",
       "162 2017-07-31  17075.837826           17030.878164   \n",
       "163 2017-08-31  17120.585652           17030.878164   \n",
       "164 2017-09-30  17163.890000           17030.878164   \n",
       "165 2017-10-31  17202.542283           17030.878164   \n",
       "166 2017-11-30  17239.947717           17030.878164   \n",
       "\n",
       "     SES Forecasted Values with mentioned alpha   TES_add_mul  AR1MA0_Forecast  \n",
       "162                                17030.664119  17078.450177     17067.593092  \n",
       "163                                17030.664119  17118.132664     17099.207037  \n",
       "164                                17030.664119  17159.164683     17126.586678  \n",
       "165                                17030.664119  17196.698695     17150.299149  \n",
       "166                                17030.664119  17233.228106     17170.835622  "
      ]
     },
     "execution_count": 64,
     "metadata": {},
     "output_type": "execute_result"
    }
   ],
   "source": [
    "y_hat.head()"
   ]
  },
  {
   "cell_type": "code",
   "execution_count": 65,
   "id": "11427986",
   "metadata": {
    "id": "11427986",
    "outputId": "a3226121-c30d-43db-bbf8-8ea13e0a1516"
   },
   "outputs": [
    {
     "name": "stdout",
     "output_type": "stream",
     "text": [
      "MAPE:  0.011122194481355933\n",
      "RMSE:  238.83522881025564\n"
     ]
    }
   ],
   "source": [
    "print(\"MAPE: \",mean_absolute_percentage_error(valid[\"Real GDP\"],y_hat[\"AR1MA0_Forecast\"]))\n",
    "print(\"RMSE: \",sqrt(mean_squared_error(valid[\"Real GDP\"],y_hat[\"AR1MA0_Forecast\"])))"
   ]
  },
  {
   "cell_type": "code",
   "execution_count": 66,
   "id": "afc8fd0f",
   "metadata": {
    "id": "afc8fd0f",
    "outputId": "7e847334-e482-4169-f644-50240df84d58"
   },
   "outputs": [
    {
     "data": {
      "image/png": "[encoded data removed]",
      "text/plain": [
       "<Figure size 1080x504 with 1 Axes>"
      ]
     },
     "metadata": {
      "needs_background": "light"
     },
     "output_type": "display_data"
    }
   ],
   "source": [
    "plt.figure(figsize=(15,7))\n",
    "plt.plot(train[\"Real GDP\"], label='train')\n",
    "plt.plot(valid[\"Real GDP\"], label='valid')\n",
    "plt.plot(y_hat['AR1MA0_Forecast'], label='AR1MA0_Forecast')\n",
    "#plt.plot(y_hat['Holt_linear_damped'], label='Holt linear damped')\n",
    "plt.legend(loc='best')\n",
    "plt.show()"
   ]
  },
  {
   "cell_type": "code",
   "execution_count": 67,
   "id": "62521de7",
   "metadata": {
    "colab": {
     "base_uri": "https://localhost:8080/",
     "height": 457
    },
    "id": "62521de7",
    "outputId": "6a3379a0-8217-482b-e68a-5e1347583a72"
   },
   "outputs": [],
   "source": [
    "# results"
   ]
  },
  {
   "cell_type": "markdown",
   "id": "ccae9467",
   "metadata": {
    "id": "ccae9467"
   },
   "source": [
    "**From the above Experiments, It is found that Triple Exponential Smoothing is Performing Better than all other methods. We are using Triple Exponential Smoothing Method to forecast the test data**"
   ]
  },
  {
   "cell_type": "markdown",
   "id": "804e5cb4",
   "metadata": {},
   "source": [
    ">**TES Model Performance on Test data**"
   ]
  },
  {
   "cell_type": "code",
   "execution_count": 68,
   "id": "b9901598",
   "metadata": {},
   "outputs": [],
   "source": [
    "#using train and validation data for training itself\n",
    "TrainPlusValid = data.iloc[:180]"
   ]
  },
  {
   "cell_type": "code",
   "execution_count": 69,
   "id": "9732def6",
   "metadata": {},
   "outputs": [],
   "source": [
    "#From Dec-2018 to Dec-2022 for forecasting\n",
    "Test = data.iloc[180:]"
   ]
  },
  {
   "cell_type": "code",
   "execution_count": 70,
   "id": "4afad04a",
   "metadata": {},
   "outputs": [
    {
     "data": {
      "text/html": [
       "<div>\n",
       "<style scoped>\n",
       "    .dataframe tbody tr th:only-of-type {\n",
       "        vertical-align: middle;\n",
       "    }\n",
       "\n",
       "    .dataframe tbody tr th {\n",
       "        vertical-align: top;\n",
       "    }\n",
       "\n",
       "    .dataframe thead th {\n",
       "        text-align: right;\n",
       "    }\n",
       "</style>\n",
       "<table border=\"1\" class=\"dataframe\">\n",
       "  <thead>\n",
       "    <tr style=\"text-align: right;\">\n",
       "      <th></th>\n",
       "      <th>Date</th>\n",
       "      <th>Real GDP</th>\n",
       "    </tr>\n",
       "  </thead>\n",
       "  <tbody>\n",
       "    <tr>\n",
       "      <th>180</th>\n",
       "      <td>2019-01-31</td>\n",
       "      <td>17762.639556</td>\n",
       "    </tr>\n",
       "    <tr>\n",
       "      <th>181</th>\n",
       "      <td>2019-02-28</td>\n",
       "      <td>17794.080444</td>\n",
       "    </tr>\n",
       "    <tr>\n",
       "      <th>182</th>\n",
       "      <td>2019-03-31</td>\n",
       "      <td>17828.890000</td>\n",
       "    </tr>\n",
       "    <tr>\n",
       "      <th>183</th>\n",
       "      <td>2019-04-30</td>\n",
       "      <td>17862.400989</td>\n",
       "    </tr>\n",
       "    <tr>\n",
       "      <th>184</th>\n",
       "      <td>2019-05-31</td>\n",
       "      <td>17897.029011</td>\n",
       "    </tr>\n",
       "  </tbody>\n",
       "</table>\n",
       "</div>"
      ],
      "text/plain": [
       "          Date      Real GDP\n",
       "180 2019-01-31  17762.639556\n",
       "181 2019-02-28  17794.080444\n",
       "182 2019-03-31  17828.890000\n",
       "183 2019-04-30  17862.400989\n",
       "184 2019-05-31  17897.029011"
      ]
     },
     "execution_count": 70,
     "metadata": {},
     "output_type": "execute_result"
    }
   ],
   "source": [
    "Test.head()"
   ]
  },
  {
   "cell_type": "code",
   "execution_count": 71,
   "id": "da06d287",
   "metadata": {},
   "outputs": [],
   "source": [
    "#TES on Test data"
   ]
  },
  {
   "cell_type": "code",
   "execution_count": 72,
   "id": "0e44bfa8",
   "metadata": {
    "id": "025684af"
   },
   "outputs": [],
   "source": [
    "min_rmse=1000000"
   ]
  },
  {
   "cell_type": "code",
   "execution_count": 73,
   "id": "1d77aed6",
   "metadata": {
    "id": "d5a7da9f"
   },
   "outputs": [],
   "source": [
    "s_level=np.linspace(0,1,10)\n",
    "s_slope=np.linspace(0,1,10)\n",
    "d_trend=np.linspace(0,1,10)\n",
    "s_seasonal=np.linspace(0,1,10)"
   ]
  },
  {
   "cell_type": "code",
   "execution_count": 74,
   "id": "2d5a5b9b",
   "metadata": {},
   "outputs": [],
   "source": [
    "y_hat = Test.copy()"
   ]
  },
  {
   "cell_type": "code",
   "execution_count": 75,
   "id": "72bef15d",
   "metadata": {
    "id": "684c0079",
    "outputId": "824d6f44-0626-474d-b668-be1f07e50d7c"
   },
   "outputs": [
    {
     "data": {
      "text/html": [
       "<div>\n",
       "<style scoped>\n",
       "    .dataframe tbody tr th:only-of-type {\n",
       "        vertical-align: middle;\n",
       "    }\n",
       "\n",
       "    .dataframe tbody tr th {\n",
       "        vertical-align: top;\n",
       "    }\n",
       "\n",
       "    .dataframe thead th {\n",
       "        text-align: right;\n",
       "    }\n",
       "</style>\n",
       "<table border=\"1\" class=\"dataframe\">\n",
       "  <thead>\n",
       "    <tr style=\"text-align: right;\">\n",
       "      <th></th>\n",
       "      <th>Date</th>\n",
       "      <th>Real GDP</th>\n",
       "      <th>TES_add_mul_Test</th>\n",
       "    </tr>\n",
       "  </thead>\n",
       "  <tbody>\n",
       "    <tr>\n",
       "      <th>180</th>\n",
       "      <td>2019-01-31</td>\n",
       "      <td>17762.639556</td>\n",
       "      <td>17768.940648</td>\n",
       "    </tr>\n",
       "    <tr>\n",
       "      <th>181</th>\n",
       "      <td>2019-02-28</td>\n",
       "      <td>17794.080444</td>\n",
       "      <td>17794.060402</td>\n",
       "    </tr>\n",
       "    <tr>\n",
       "      <th>182</th>\n",
       "      <td>2019-03-31</td>\n",
       "      <td>17828.890000</td>\n",
       "      <td>17821.222218</td>\n",
       "    </tr>\n",
       "    <tr>\n",
       "      <th>183</th>\n",
       "      <td>2019-04-30</td>\n",
       "      <td>17862.400989</td>\n",
       "      <td>17855.480387</td>\n",
       "    </tr>\n",
       "    <tr>\n",
       "      <th>184</th>\n",
       "      <td>2019-05-31</td>\n",
       "      <td>17897.029011</td>\n",
       "      <td>17889.766498</td>\n",
       "    </tr>\n",
       "  </tbody>\n",
       "</table>\n",
       "</div>"
      ],
      "text/plain": [
       "          Date      Real GDP  TES_add_mul_Test\n",
       "180 2019-01-31  17762.639556      17768.940648\n",
       "181 2019-02-28  17794.080444      17794.060402\n",
       "182 2019-03-31  17828.890000      17821.222218\n",
       "183 2019-04-30  17862.400989      17855.480387\n",
       "184 2019-05-31  17897.029011      17889.766498"
      ]
     },
     "execution_count": 75,
     "metadata": {},
     "output_type": "execute_result"
    }
   ],
   "source": [
    "# Fitting and testing the model with The best parameters.\n",
    "model = ExponentialSmoothing(np.asarray(TrainPlusValid[\"Real GDP\"]), seasonal_periods=8, trend='add',damped_trend=True, seasonal='mul')\n",
    "fit1 = model.fit(smoothing_level=0.2222222222222222, smoothing_slope=1.0,damping_trend=1.0, smoothing_seasonal=0.2222222222222222, optimized=False)\n",
    "y_hat['TES_add_mul_Test'] = fit1.forecast(len(Test))\n",
    "y_hat.head()"
   ]
  },
  {
   "cell_type": "code",
   "execution_count": 76,
   "id": "32cc5909",
   "metadata": {
    "id": "25eda2e9"
   },
   "outputs": [],
   "source": [
    "# Plotting the forecast on along with Test Data"
   ]
  },
  {
   "cell_type": "code",
   "execution_count": 77,
   "id": "491d00fc",
   "metadata": {
    "id": "7ce9443b",
    "outputId": "9f358696-c2e7-4b1a-8c97-3fe6ede9d465"
   },
   "outputs": [
    {
     "data": {
      "text/plain": [
       "<matplotlib.legend.Legend at 0x1aa359ffe50>"
      ]
     },
     "execution_count": 77,
     "metadata": {},
     "output_type": "execute_result"
    },
    {
     "data": {
      "image/png": "[encoded data removed]",
      "text/plain": [
       "<Figure size 1080x720 with 1 Axes>"
      ]
     },
     "metadata": {
      "needs_background": "light"
     },
     "output_type": "display_data"
    }
   ],
   "source": [
    "plt.figure(figsize=(15,10))\n",
    "plt.plot(TrainPlusValid[\"Real GDP\"],label=\"Train+Valid data\")\n",
    "plt.plot(Test[\"Real GDP\"],label=\"Test data\")\n",
    "plt.plot(y_hat[\"TES_add_mul_Test\"],label=\"TES Forecast on Test data\")\n",
    "plt.legend()"
   ]
  },
  {
   "cell_type": "code",
   "execution_count": 78,
   "id": "a2ad47b7",
   "metadata": {
    "id": "d6ca57f0"
   },
   "outputs": [],
   "source": [
    "# Check the RMSE , MAE and MAPE, The values are lower than our benchmark model"
   ]
  },
  {
   "cell_type": "code",
   "execution_count": 79,
   "id": "8b98729a",
   "metadata": {
    "id": "b9523b94",
    "outputId": "6808c4a0-567b-4c60-8b21-4aec0ed7a5b8",
    "scrolled": true
   },
   "outputs": [],
   "source": [
    "#Error Metrics\n",
    "rmse=sqrt(mean_squared_error(Test[\"Real GDP\"], y_hat['TES_add_mul_Test']))\n",
    "mae=(mean_absolute_error(Test[\"Real GDP\"], y_hat['TES_add_mul_Test']))\n",
    "mape=(mean_absolute_percentage_error(Test[\"Real GDP\"], y_hat['TES_add_mul_Test']))"
   ]
  },
  {
   "cell_type": "code",
   "execution_count": 80,
   "id": "f9031b35",
   "metadata": {},
   "outputs": [
    {
     "data": {
      "text/html": [
       "<table class=\"simpletable\">\n",
       "<caption>SARIMAX Results</caption>\n",
       "<tr>\n",
       "  <th>Dep. Variable:</th>       <td>Real GDP</td>     <th>  No. Observations:  </th>    <td>180</td>  \n",
       "</tr>\n",
       "<tr>\n",
       "  <th>Model:</th>            <td>ARIMA(1, 1, 0)</td>  <th>  Log Likelihood     </th> <td>-767.013</td>\n",
       "</tr>\n",
       "<tr>\n",
       "  <th>Date:</th>            <td>Mon, 30 Jan 2023</td> <th>  AIC                </th> <td>1538.025</td>\n",
       "</tr>\n",
       "<tr>\n",
       "  <th>Time:</th>                <td>21:06:27</td>     <th>  BIC                </th> <td>1544.400</td>\n",
       "</tr>\n",
       "<tr>\n",
       "  <th>Sample:</th>                  <td>0</td>        <th>  HQIC               </th> <td>1540.610</td>\n",
       "</tr>\n",
       "<tr>\n",
       "  <th></th>                      <td> - 180</td>      <th>                     </th>     <td> </td>   \n",
       "</tr>\n",
       "<tr>\n",
       "  <th>Covariance Type:</th>        <td>opg</td>       <th>                     </th>     <td> </td>   \n",
       "</tr>\n",
       "</table>\n",
       "<table class=\"simpletable\">\n",
       "<tr>\n",
       "     <td></td>       <th>coef</th>     <th>std err</th>      <th>z</th>      <th>P>|z|</th>  <th>[0.025</th>    <th>0.975]</th>  \n",
       "</tr>\n",
       "<tr>\n",
       "  <th>ar.L1</th>  <td>    0.8799</td> <td>    0.038</td> <td>   23.407</td> <td> 0.000</td> <td>    0.806</td> <td>    0.954</td>\n",
       "</tr>\n",
       "<tr>\n",
       "  <th>sigma2</th> <td>  306.4122</td> <td>   17.013</td> <td>   18.010</td> <td> 0.000</td> <td>  273.067</td> <td>  339.757</td>\n",
       "</tr>\n",
       "</table>\n",
       "<table class=\"simpletable\">\n",
       "<tr>\n",
       "  <th>Ljung-Box (L1) (Q):</th>     <td>0.00</td> <th>  Jarque-Bera (JB):  </th> <td>346.53</td>\n",
       "</tr>\n",
       "<tr>\n",
       "  <th>Prob(Q):</th>                <td>0.98</td> <th>  Prob(JB):          </th>  <td>0.00</td> \n",
       "</tr>\n",
       "<tr>\n",
       "  <th>Heteroskedasticity (H):</th> <td>0.52</td> <th>  Skew:              </th>  <td>-0.53</td>\n",
       "</tr>\n",
       "<tr>\n",
       "  <th>Prob(H) (two-sided):</th>    <td>0.01</td> <th>  Kurtosis:          </th>  <td>9.73</td> \n",
       "</tr>\n",
       "</table><br/><br/>Warnings:<br/>[1] Covariance matrix calculated using the outer product of gradients (complex-step)."
      ],
      "text/plain": [
       "<class 'statsmodels.iolib.summary.Summary'>\n",
       "\"\"\"\n",
       "                               SARIMAX Results                                \n",
       "==============================================================================\n",
       "Dep. Variable:               Real GDP   No. Observations:                  180\n",
       "Model:                 ARIMA(1, 1, 0)   Log Likelihood                -767.013\n",
       "Date:                Mon, 30 Jan 2023   AIC                           1538.025\n",
       "Time:                        21:06:27   BIC                           1544.400\n",
       "Sample:                             0   HQIC                          1540.610\n",
       "                                - 180                                         \n",
       "Covariance Type:                  opg                                         \n",
       "==============================================================================\n",
       "                 coef    std err          z      P>|z|      [0.025      0.975]\n",
       "------------------------------------------------------------------------------\n",
       "ar.L1          0.8799      0.038     23.407      0.000       0.806       0.954\n",
       "sigma2       306.4122     17.013     18.010      0.000     273.067     339.757\n",
       "===================================================================================\n",
       "Ljung-Box (L1) (Q):                   0.00   Jarque-Bera (JB):               346.53\n",
       "Prob(Q):                              0.98   Prob(JB):                         0.00\n",
       "Heteroskedasticity (H):               0.52   Skew:                            -0.53\n",
       "Prob(H) (two-sided):                  0.01   Kurtosis:                         9.73\n",
       "===================================================================================\n",
       "\n",
       "Warnings:\n",
       "[1] Covariance matrix calculated using the outer product of gradients (complex-step).\n",
       "\"\"\""
      ]
     },
     "execution_count": 80,
     "metadata": {},
     "output_type": "execute_result"
    }
   ],
   "source": [
    "ar1ma0=ARIMA(TrainPlusValid[\"Real GDP\"], order=(1,1,0)).fit()\n",
    "ar1ma0.summary()"
   ]
  },
  {
   "cell_type": "code",
   "execution_count": 81,
   "id": "9177a261",
   "metadata": {
    "id": "0398473f"
   },
   "outputs": [],
   "source": [
    "Test['AR1MA0_Forecast']=ar1ma0.forecast(steps=len(Test))"
   ]
  },
  {
   "cell_type": "code",
   "execution_count": 82,
   "id": "eed81edc",
   "metadata": {
    "id": "d4bab8bb",
    "outputId": "6db66b60-704c-47d1-e232-a5f82a250738"
   },
   "outputs": [
    {
     "data": {
      "text/html": [
       "<div>\n",
       "<style scoped>\n",
       "    .dataframe tbody tr th:only-of-type {\n",
       "        vertical-align: middle;\n",
       "    }\n",
       "\n",
       "    .dataframe tbody tr th {\n",
       "        vertical-align: top;\n",
       "    }\n",
       "\n",
       "    .dataframe thead th {\n",
       "        text-align: right;\n",
       "    }\n",
       "</style>\n",
       "<table border=\"1\" class=\"dataframe\">\n",
       "  <thead>\n",
       "    <tr style=\"text-align: right;\">\n",
       "      <th></th>\n",
       "      <th>Date</th>\n",
       "      <th>Real GDP</th>\n",
       "      <th>AR1MA0_Forecast</th>\n",
       "    </tr>\n",
       "  </thead>\n",
       "  <tbody>\n",
       "    <tr>\n",
       "      <th>180</th>\n",
       "      <td>2019-01-31</td>\n",
       "      <td>17762.639556</td>\n",
       "      <td>17760.177128</td>\n",
       "    </tr>\n",
       "    <tr>\n",
       "      <th>181</th>\n",
       "      <td>2019-02-28</td>\n",
       "      <td>17794.080444</td>\n",
       "      <td>17788.639615</td>\n",
       "    </tr>\n",
       "    <tr>\n",
       "      <th>182</th>\n",
       "      <td>2019-03-31</td>\n",
       "      <td>17828.890000</td>\n",
       "      <td>17813.683976</td>\n",
       "    </tr>\n",
       "    <tr>\n",
       "      <th>183</th>\n",
       "      <td>2019-04-30</td>\n",
       "      <td>17862.400989</td>\n",
       "      <td>17835.720701</td>\n",
       "    </tr>\n",
       "    <tr>\n",
       "      <th>184</th>\n",
       "      <td>2019-05-31</td>\n",
       "      <td>17897.029011</td>\n",
       "      <td>17855.110986</td>\n",
       "    </tr>\n",
       "  </tbody>\n",
       "</table>\n",
       "</div>"
      ],
      "text/plain": [
       "          Date      Real GDP  AR1MA0_Forecast\n",
       "180 2019-01-31  17762.639556     17760.177128\n",
       "181 2019-02-28  17794.080444     17788.639615\n",
       "182 2019-03-31  17828.890000     17813.683976\n",
       "183 2019-04-30  17862.400989     17835.720701\n",
       "184 2019-05-31  17897.029011     17855.110986"
      ]
     },
     "execution_count": 82,
     "metadata": {},
     "output_type": "execute_result"
    }
   ],
   "source": [
    "Test.head()"
   ]
  },
  {
   "cell_type": "code",
   "execution_count": 83,
   "id": "a7b8d174",
   "metadata": {
    "id": "11427986",
    "outputId": "a3226121-c30d-43db-bbf8-8ea13e0a1516"
   },
   "outputs": [
    {
     "name": "stdout",
     "output_type": "stream",
     "text": [
      "MAPE:  0.028775697363032763\n",
      "RMSE:  656.1323882171598\n"
     ]
    }
   ],
   "source": [
    "print(\"MAPE: \",mean_absolute_percentage_error(Test[\"Real GDP\"],Test[\"AR1MA0_Forecast\"]))\n",
    "print(\"RMSE: \",sqrt(mean_squared_error(Test[\"Real GDP\"],Test[\"AR1MA0_Forecast\"])))"
   ]
  },
  {
   "cell_type": "code",
   "execution_count": 84,
   "id": "ea4e6475",
   "metadata": {},
   "outputs": [],
   "source": [
    "mape1=mean_absolute_percentage_error(Test[\"Real GDP\"],Test[\"AR1MA0_Forecast\"])\n",
    "rmse1 =sqrt(mean_squared_error(Test[\"Real GDP\"],Test[\"AR1MA0_Forecast\"]))"
   ]
  },
  {
   "cell_type": "code",
   "execution_count": 85,
   "id": "bb2da037",
   "metadata": {},
   "outputs": [],
   "source": [
    "df_date=data['Date']\n",
    "train_date = data['Date'][:162]\n",
    "valid_date = data['Date'][162:180]\n",
    "test_date = data['Date'][180:]\n",
    "train_valid_date= data['Date'][:180]"
   ]
  },
  {
   "cell_type": "code",
   "execution_count": 86,
   "id": "eec762d4",
   "metadata": {
    "id": "afc8fd0f",
    "outputId": "7e847334-e482-4169-f644-50240df84d58"
   },
   "outputs": [
    {
     "data": {
      "image/png": "[encoded data removed]",
      "text/plain": [
       "<Figure size 1080x504 with 1 Axes>"
      ]
     },
     "metadata": {
      "needs_background": "light"
     },
     "output_type": "display_data"
    }
   ],
   "source": [
    "plt.figure(figsize=(15,7))\n",
    "plt.plot(train_valid_date,TrainPlusValid[\"Real GDP\"], label='TrainPlusValid')\n",
    "plt.plot(test_date,Test[\"Real GDP\"], label='Test')\n",
    "plt.plot(test_date,Test['AR1MA0_Forecast'], label='AR1MA0_Forecast')\n",
    "#plt.plot(y_hat['Holt_linear_damped'], label='Holt linear damped')\n",
    "plt.legend(loc='best')\n",
    "plt.show()"
   ]
  },
  {
   "cell_type": "code",
   "execution_count": 87,
   "id": "8b0d79cd",
   "metadata": {},
   "outputs": [
    {
     "data": {
      "text/html": [
       "<div>\n",
       "<style scoped>\n",
       "    .dataframe tbody tr th:only-of-type {\n",
       "        vertical-align: middle;\n",
       "    }\n",
       "\n",
       "    .dataframe tbody tr th {\n",
       "        vertical-align: top;\n",
       "    }\n",
       "\n",
       "    .dataframe thead th {\n",
       "        text-align: right;\n",
       "    }\n",
       "</style>\n",
       "<table border=\"1\" class=\"dataframe\">\n",
       "  <thead>\n",
       "    <tr style=\"text-align: right;\">\n",
       "      <th></th>\n",
       "      <th>Method</th>\n",
       "      <th>RMSE</th>\n",
       "      <th>MAPE (%)</th>\n",
       "    </tr>\n",
       "  </thead>\n",
       "  <tbody>\n",
       "    <tr>\n",
       "      <th>TES</th>\n",
       "      <td>TES</td>\n",
       "      <td>19.214648</td>\n",
       "      <td>0.089622</td>\n",
       "    </tr>\n",
       "    <tr>\n",
       "      <th>AR1MA0</th>\n",
       "      <td>AR1MA0</td>\n",
       "      <td>656.132388</td>\n",
       "      <td>2.877570</td>\n",
       "    </tr>\n",
       "  </tbody>\n",
       "</table>\n",
       "</div>"
      ],
      "text/plain": [
       "        Method        RMSE  MAPE (%)\n",
       "TES        TES   19.214648  0.089622\n",
       "AR1MA0  AR1MA0  656.132388  2.877570"
      ]
     },
     "execution_count": 87,
     "metadata": {},
     "output_type": "execute_result"
    }
   ],
   "source": [
    "#Printing the test results through MAPE & RMSE\n",
    "Results= pd.DataFrame({\"Method\" : [\"TES\",\"AR1MA0\"], \"RMSE\": [rmse,rmse1], \"MAPE (%)\": [mape*100,mape1*100]},index=[\"TES\",\"AR1MA0\"])\n",
    "Results"
   ]
  },
  {
   "cell_type": "markdown",
   "id": "12996539",
   "metadata": {},
   "source": [
    "## Conclusion- We are getting a mape of 2.87 percent for our test predictions from ARIMA\n",
    "\n",
    "## Our Best Model is Triple Exponential Smoothing with the test mape of 0.08 percent"
   ]
  }
 ],
 "metadata": {
  "colab": {
   "provenance": []
  },
  "kernelspec": {
   "display_name": "Python 3",
   "language": "python",
   "name": "python3"
  },
  "language_info": {
   "codemirror_mode": {
    "name": "ipython",
    "version": 3
   },
   "file_extension": ".py",
   "mimetype": "text/x-python",
   "name": "python",
   "nbconvert_exporter": "python",
   "pygments_lexer": "ipython3",
   "version": "3.8.8"
  }
 },
 "nbformat": 4,
 "nbformat_minor": 5
}
